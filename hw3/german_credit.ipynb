{
 "cells": [
  {
   "cell_type": "code",
   "execution_count": 1,
   "metadata": {},
   "outputs": [],
   "source": [
    "from pandas import Series\n",
    "from pandas import DataFrame\n",
    "import numpy as np\n",
    "import pandas as pd\n",
    "from matplotlib import pyplot as plt"
   ]
  },
  {
   "cell_type": "code",
   "execution_count": 2,
   "metadata": {},
   "outputs": [
    {
     "name": "stdout",
     "output_type": "stream",
     "text": [
      "<class 'pandas.core.frame.DataFrame'>\n",
      "RangeIndex: 1000 entries, 0 to 999\n",
      "Data columns (total 21 columns):\n",
      " #   Column                  Non-Null Count  Dtype \n",
      "---  ------                  --------------  ----- \n",
      " 0   checking_status         1000 non-null   object\n",
      " 1   duration                1000 non-null   int64 \n",
      " 2   credit_history          1000 non-null   object\n",
      " 3   purpose                 1000 non-null   object\n",
      " 4   credit_amount           1000 non-null   int64 \n",
      " 5   savings_status          1000 non-null   object\n",
      " 6   employment              1000 non-null   object\n",
      " 7   installment_commitment  1000 non-null   int64 \n",
      " 8   personal_status         1000 non-null   object\n",
      " 9   other_parties           1000 non-null   object\n",
      " 10  residence_since         1000 non-null   int64 \n",
      " 11  property_magnitude      1000 non-null   object\n",
      " 12  age                     1000 non-null   int64 \n",
      " 13  other_payment_plans     1000 non-null   object\n",
      " 14  housing                 1000 non-null   object\n",
      " 15  existing_credits        1000 non-null   int64 \n",
      " 16  job                     1000 non-null   object\n",
      " 17  num_dependents          1000 non-null   int64 \n",
      " 18  own_telephone           1000 non-null   object\n",
      " 19  foreign_worker          1000 non-null   object\n",
      " 20  class                   1000 non-null   object\n",
      "dtypes: int64(7), object(14)\n",
      "memory usage: 164.2+ KB\n"
     ]
    }
   ],
   "source": [
    "# read in the data\n",
    "df = pd.read_csv(\"GermanCredit.csv\") \n",
    "df.head()\n",
    "df.info()\n"
   ]
  },
  {
   "cell_type": "markdown",
   "metadata": {},
   "source": [
    "<div style=style=\"font-size: 12px\">\n",
    "   \n",
    "     Processing\n",
    "\n",
    "</div>"
   ]
  },
  {
   "cell_type": "markdown",
   "metadata": {},
   "source": [
    "drop the 3 lowest contributing columns"
   ]
  },
  {
   "cell_type": "code",
   "execution_count": 3,
   "metadata": {},
   "outputs": [
    {
     "name": "stdout",
     "output_type": "stream",
     "text": [
      "[('other_parties', 907), ('other_payment_plans', 814), ('own_telephone', 596), ('checking_status', 0), ('duration', 0), ('credit_history', 0), ('purpose', 0), ('credit_amount', 0), ('savings_status', 0), ('employment', 0), ('installment_commitment', 0), ('personal_status', 0), ('residence_since', 0), ('property_magnitude', 0), ('age', 0), ('housing', 0), ('existing_credits', 0), ('job', 0), ('num_dependents', 0), ('foreign_worker', 0), ('class', 0)]\n",
      "<class 'pandas.core.frame.DataFrame'>\n",
      "RangeIndex: 1000 entries, 0 to 999\n",
      "Data columns (total 18 columns):\n",
      " #   Column                  Non-Null Count  Dtype \n",
      "---  ------                  --------------  ----- \n",
      " 0   checking_status         1000 non-null   object\n",
      " 1   duration                1000 non-null   int64 \n",
      " 2   credit_history          1000 non-null   object\n",
      " 3   purpose                 1000 non-null   object\n",
      " 4   credit_amount           1000 non-null   int64 \n",
      " 5   savings_status          1000 non-null   object\n",
      " 6   employment              1000 non-null   object\n",
      " 7   installment_commitment  1000 non-null   int64 \n",
      " 8   personal_status         1000 non-null   object\n",
      " 9   residence_since         1000 non-null   int64 \n",
      " 10  property_magnitude      1000 non-null   object\n",
      " 11  age                     1000 non-null   int64 \n",
      " 12  housing                 1000 non-null   object\n",
      " 13  existing_credits        1000 non-null   int64 \n",
      " 14  job                     1000 non-null   object\n",
      " 15  num_dependents          1000 non-null   int64 \n",
      " 16  foreign_worker          1000 non-null   object\n",
      " 17  class                   1000 non-null   object\n",
      "dtypes: int64(7), object(11)\n",
      "memory usage: 140.8+ KB\n"
     ]
    }
   ],
   "source": [
    "# dict to store the amount of nones in each col\n",
    "lowestContribute = {}\n",
    "# get the count of all none values in each col\n",
    "for name,data in df.items():\n",
    "    lowestContribute[name] = (df[name]==\"none\").sum()\n",
    "\n",
    "# sort the dict so that highest amount of none will be first\n",
    "lowestContribute = sorted(lowestContribute.items(), key=lambda kv: kv[1], reverse=True)\n",
    "print(lowestContribute)\n",
    "\n",
    "# functions to drop n useless columns\n",
    "def dropNcontribute(n):\n",
    "    for i in range(n):\n",
    "        # lowestContribute is a tuple, so we must access the key from [i][0]\n",
    "        del df[lowestContribute[i][0]]\n",
    "        # print(lowestContribute[i][0])\n",
    "\n",
    "# drop the 3 lowest\n",
    "dropNcontribute(3)\n",
    "df.info()\n"
   ]
  },
  {
   "cell_type": "markdown",
   "metadata": {},
   "source": [
    "Remove all apostrophy that's in element"
   ]
  },
  {
   "cell_type": "code",
   "execution_count": 4,
   "metadata": {},
   "outputs": [
    {
     "data": {
      "text/html": [
       "<div>\n",
       "<style scoped>\n",
       "    .dataframe tbody tr th:only-of-type {\n",
       "        vertical-align: middle;\n",
       "    }\n",
       "\n",
       "    .dataframe tbody tr th {\n",
       "        vertical-align: top;\n",
       "    }\n",
       "\n",
       "    .dataframe thead th {\n",
       "        text-align: right;\n",
       "    }\n",
       "</style>\n",
       "<table border=\"1\" class=\"dataframe\">\n",
       "  <thead>\n",
       "    <tr style=\"text-align: right;\">\n",
       "      <th></th>\n",
       "      <th>checking_status</th>\n",
       "      <th>duration</th>\n",
       "      <th>credit_history</th>\n",
       "      <th>purpose</th>\n",
       "      <th>credit_amount</th>\n",
       "      <th>savings_status</th>\n",
       "      <th>employment</th>\n",
       "      <th>installment_commitment</th>\n",
       "      <th>personal_status</th>\n",
       "      <th>residence_since</th>\n",
       "      <th>property_magnitude</th>\n",
       "      <th>age</th>\n",
       "      <th>housing</th>\n",
       "      <th>existing_credits</th>\n",
       "      <th>job</th>\n",
       "      <th>num_dependents</th>\n",
       "      <th>foreign_worker</th>\n",
       "      <th>class</th>\n",
       "    </tr>\n",
       "  </thead>\n",
       "  <tbody>\n",
       "    <tr>\n",
       "      <th>0</th>\n",
       "      <td>&lt;0</td>\n",
       "      <td>6</td>\n",
       "      <td>critical/other existing credit</td>\n",
       "      <td>radio/tv</td>\n",
       "      <td>1169</td>\n",
       "      <td>no known savings</td>\n",
       "      <td>&gt;=7</td>\n",
       "      <td>4</td>\n",
       "      <td>male single</td>\n",
       "      <td>4</td>\n",
       "      <td>real estate</td>\n",
       "      <td>67</td>\n",
       "      <td>own</td>\n",
       "      <td>2</td>\n",
       "      <td>skilled</td>\n",
       "      <td>1</td>\n",
       "      <td>yes</td>\n",
       "      <td>good</td>\n",
       "    </tr>\n",
       "    <tr>\n",
       "      <th>1</th>\n",
       "      <td>0&lt;=X&lt;200</td>\n",
       "      <td>48</td>\n",
       "      <td>existing paid</td>\n",
       "      <td>radio/tv</td>\n",
       "      <td>5951</td>\n",
       "      <td>&lt;100</td>\n",
       "      <td>1&lt;=X&lt;4</td>\n",
       "      <td>2</td>\n",
       "      <td>female div/dep/mar</td>\n",
       "      <td>2</td>\n",
       "      <td>real estate</td>\n",
       "      <td>22</td>\n",
       "      <td>own</td>\n",
       "      <td>1</td>\n",
       "      <td>skilled</td>\n",
       "      <td>1</td>\n",
       "      <td>yes</td>\n",
       "      <td>bad</td>\n",
       "    </tr>\n",
       "    <tr>\n",
       "      <th>2</th>\n",
       "      <td>no checking</td>\n",
       "      <td>12</td>\n",
       "      <td>critical/other existing credit</td>\n",
       "      <td>education</td>\n",
       "      <td>2096</td>\n",
       "      <td>&lt;100</td>\n",
       "      <td>4&lt;=X&lt;7</td>\n",
       "      <td>2</td>\n",
       "      <td>male single</td>\n",
       "      <td>3</td>\n",
       "      <td>real estate</td>\n",
       "      <td>49</td>\n",
       "      <td>own</td>\n",
       "      <td>1</td>\n",
       "      <td>unskilled resident</td>\n",
       "      <td>2</td>\n",
       "      <td>yes</td>\n",
       "      <td>good</td>\n",
       "    </tr>\n",
       "    <tr>\n",
       "      <th>3</th>\n",
       "      <td>&lt;0</td>\n",
       "      <td>42</td>\n",
       "      <td>existing paid</td>\n",
       "      <td>furniture/equipment</td>\n",
       "      <td>7882</td>\n",
       "      <td>&lt;100</td>\n",
       "      <td>4&lt;=X&lt;7</td>\n",
       "      <td>2</td>\n",
       "      <td>male single</td>\n",
       "      <td>4</td>\n",
       "      <td>life insurance</td>\n",
       "      <td>45</td>\n",
       "      <td>for free</td>\n",
       "      <td>1</td>\n",
       "      <td>skilled</td>\n",
       "      <td>2</td>\n",
       "      <td>yes</td>\n",
       "      <td>good</td>\n",
       "    </tr>\n",
       "    <tr>\n",
       "      <th>4</th>\n",
       "      <td>&lt;0</td>\n",
       "      <td>24</td>\n",
       "      <td>delayed previously</td>\n",
       "      <td>new car</td>\n",
       "      <td>4870</td>\n",
       "      <td>&lt;100</td>\n",
       "      <td>1&lt;=X&lt;4</td>\n",
       "      <td>3</td>\n",
       "      <td>male single</td>\n",
       "      <td>4</td>\n",
       "      <td>no known property</td>\n",
       "      <td>53</td>\n",
       "      <td>for free</td>\n",
       "      <td>2</td>\n",
       "      <td>skilled</td>\n",
       "      <td>2</td>\n",
       "      <td>yes</td>\n",
       "      <td>bad</td>\n",
       "    </tr>\n",
       "    <tr>\n",
       "      <th>...</th>\n",
       "      <td>...</td>\n",
       "      <td>...</td>\n",
       "      <td>...</td>\n",
       "      <td>...</td>\n",
       "      <td>...</td>\n",
       "      <td>...</td>\n",
       "      <td>...</td>\n",
       "      <td>...</td>\n",
       "      <td>...</td>\n",
       "      <td>...</td>\n",
       "      <td>...</td>\n",
       "      <td>...</td>\n",
       "      <td>...</td>\n",
       "      <td>...</td>\n",
       "      <td>...</td>\n",
       "      <td>...</td>\n",
       "      <td>...</td>\n",
       "      <td>...</td>\n",
       "    </tr>\n",
       "    <tr>\n",
       "      <th>995</th>\n",
       "      <td>no checking</td>\n",
       "      <td>12</td>\n",
       "      <td>existing paid</td>\n",
       "      <td>furniture/equipment</td>\n",
       "      <td>1736</td>\n",
       "      <td>&lt;100</td>\n",
       "      <td>4&lt;=X&lt;7</td>\n",
       "      <td>3</td>\n",
       "      <td>female div/dep/mar</td>\n",
       "      <td>4</td>\n",
       "      <td>real estate</td>\n",
       "      <td>31</td>\n",
       "      <td>own</td>\n",
       "      <td>1</td>\n",
       "      <td>unskilled resident</td>\n",
       "      <td>1</td>\n",
       "      <td>yes</td>\n",
       "      <td>good</td>\n",
       "    </tr>\n",
       "    <tr>\n",
       "      <th>996</th>\n",
       "      <td>&lt;0</td>\n",
       "      <td>30</td>\n",
       "      <td>existing paid</td>\n",
       "      <td>used car</td>\n",
       "      <td>3857</td>\n",
       "      <td>&lt;100</td>\n",
       "      <td>1&lt;=X&lt;4</td>\n",
       "      <td>4</td>\n",
       "      <td>male div/sep</td>\n",
       "      <td>4</td>\n",
       "      <td>life insurance</td>\n",
       "      <td>40</td>\n",
       "      <td>own</td>\n",
       "      <td>1</td>\n",
       "      <td>high qualif/self emp/mgmt</td>\n",
       "      <td>1</td>\n",
       "      <td>yes</td>\n",
       "      <td>good</td>\n",
       "    </tr>\n",
       "    <tr>\n",
       "      <th>997</th>\n",
       "      <td>no checking</td>\n",
       "      <td>12</td>\n",
       "      <td>existing paid</td>\n",
       "      <td>radio/tv</td>\n",
       "      <td>804</td>\n",
       "      <td>&lt;100</td>\n",
       "      <td>&gt;=7</td>\n",
       "      <td>4</td>\n",
       "      <td>male single</td>\n",
       "      <td>4</td>\n",
       "      <td>car</td>\n",
       "      <td>38</td>\n",
       "      <td>own</td>\n",
       "      <td>1</td>\n",
       "      <td>skilled</td>\n",
       "      <td>1</td>\n",
       "      <td>yes</td>\n",
       "      <td>good</td>\n",
       "    </tr>\n",
       "    <tr>\n",
       "      <th>998</th>\n",
       "      <td>&lt;0</td>\n",
       "      <td>45</td>\n",
       "      <td>existing paid</td>\n",
       "      <td>radio/tv</td>\n",
       "      <td>1845</td>\n",
       "      <td>&lt;100</td>\n",
       "      <td>1&lt;=X&lt;4</td>\n",
       "      <td>4</td>\n",
       "      <td>male single</td>\n",
       "      <td>4</td>\n",
       "      <td>no known property</td>\n",
       "      <td>23</td>\n",
       "      <td>for free</td>\n",
       "      <td>1</td>\n",
       "      <td>skilled</td>\n",
       "      <td>1</td>\n",
       "      <td>yes</td>\n",
       "      <td>bad</td>\n",
       "    </tr>\n",
       "    <tr>\n",
       "      <th>999</th>\n",
       "      <td>0&lt;=X&lt;200</td>\n",
       "      <td>45</td>\n",
       "      <td>critical/other existing credit</td>\n",
       "      <td>used car</td>\n",
       "      <td>4576</td>\n",
       "      <td>100&lt;=X&lt;500</td>\n",
       "      <td>unemployed</td>\n",
       "      <td>3</td>\n",
       "      <td>male single</td>\n",
       "      <td>4</td>\n",
       "      <td>car</td>\n",
       "      <td>27</td>\n",
       "      <td>own</td>\n",
       "      <td>1</td>\n",
       "      <td>skilled</td>\n",
       "      <td>1</td>\n",
       "      <td>yes</td>\n",
       "      <td>good</td>\n",
       "    </tr>\n",
       "  </tbody>\n",
       "</table>\n",
       "<p>1000 rows × 18 columns</p>\n",
       "</div>"
      ],
      "text/plain": [
       "    checking_status  duration                  credit_history  \\\n",
       "0                <0         6  critical/other existing credit   \n",
       "1          0<=X<200        48                   existing paid   \n",
       "2       no checking        12  critical/other existing credit   \n",
       "3                <0        42                   existing paid   \n",
       "4                <0        24              delayed previously   \n",
       "..              ...       ...                             ...   \n",
       "995     no checking        12                   existing paid   \n",
       "996              <0        30                   existing paid   \n",
       "997     no checking        12                   existing paid   \n",
       "998              <0        45                   existing paid   \n",
       "999        0<=X<200        45  critical/other existing credit   \n",
       "\n",
       "                 purpose  credit_amount    savings_status  employment  \\\n",
       "0               radio/tv           1169  no known savings         >=7   \n",
       "1               radio/tv           5951              <100      1<=X<4   \n",
       "2              education           2096              <100      4<=X<7   \n",
       "3    furniture/equipment           7882              <100      4<=X<7   \n",
       "4                new car           4870              <100      1<=X<4   \n",
       "..                   ...            ...               ...         ...   \n",
       "995  furniture/equipment           1736              <100      4<=X<7   \n",
       "996             used car           3857              <100      1<=X<4   \n",
       "997             radio/tv            804              <100         >=7   \n",
       "998             radio/tv           1845              <100      1<=X<4   \n",
       "999             used car           4576        100<=X<500  unemployed   \n",
       "\n",
       "     installment_commitment     personal_status  residence_since  \\\n",
       "0                         4         male single                4   \n",
       "1                         2  female div/dep/mar                2   \n",
       "2                         2         male single                3   \n",
       "3                         2         male single                4   \n",
       "4                         3         male single                4   \n",
       "..                      ...                 ...              ...   \n",
       "995                       3  female div/dep/mar                4   \n",
       "996                       4        male div/sep                4   \n",
       "997                       4         male single                4   \n",
       "998                       4         male single                4   \n",
       "999                       3         male single                4   \n",
       "\n",
       "    property_magnitude  age   housing  existing_credits  \\\n",
       "0          real estate   67       own                 2   \n",
       "1          real estate   22       own                 1   \n",
       "2          real estate   49       own                 1   \n",
       "3       life insurance   45  for free                 1   \n",
       "4    no known property   53  for free                 2   \n",
       "..                 ...  ...       ...               ...   \n",
       "995        real estate   31       own                 1   \n",
       "996     life insurance   40       own                 1   \n",
       "997                car   38       own                 1   \n",
       "998  no known property   23  for free                 1   \n",
       "999                car   27       own                 1   \n",
       "\n",
       "                           job  num_dependents foreign_worker class  \n",
       "0                      skilled               1            yes  good  \n",
       "1                      skilled               1            yes   bad  \n",
       "2           unskilled resident               2            yes  good  \n",
       "3                      skilled               2            yes  good  \n",
       "4                      skilled               2            yes   bad  \n",
       "..                         ...             ...            ...   ...  \n",
       "995         unskilled resident               1            yes  good  \n",
       "996  high qualif/self emp/mgmt               1            yes  good  \n",
       "997                    skilled               1            yes  good  \n",
       "998                    skilled               1            yes   bad  \n",
       "999                    skilled               1            yes  good  \n",
       "\n",
       "[1000 rows x 18 columns]"
      ]
     },
     "execution_count": 4,
     "metadata": {},
     "output_type": "execute_result"
    }
   ],
   "source": [
    "df = df.replace({\"'\":\"\"},regex=True)       \n",
    "df"
   ]
  },
  {
   "cell_type": "markdown",
   "metadata": {},
   "source": [
    "Edit the checking_status columns"
   ]
  },
  {
   "cell_type": "code",
   "execution_count": 5,
   "metadata": {},
   "outputs": [
    {
     "data": {
      "text/plain": [
       "no checking    394\n",
       "<0             274\n",
       "0<=X<200       269\n",
       ">=200           63\n",
       "Name: checking_status, dtype: int64"
      ]
     },
     "execution_count": 5,
     "metadata": {},
     "output_type": "execute_result"
    }
   ],
   "source": [
    "df[\"checking_status\"].value_counts()"
   ]
  },
  {
   "cell_type": "code",
   "execution_count": 6,
   "metadata": {},
   "outputs": [],
   "source": [
    "df[\"checking_status\"] = df[\"checking_status\"].apply(lambda x: \"No Checking\" if \"no checking\" == x else x)\n",
    "df[\"checking_status\"] = df[\"checking_status\"].apply(lambda x: \"Low\" if \"<0\" == x else x)\n",
    "df[\"checking_status\"] = df[\"checking_status\"].apply(lambda x: \"Medium\" if \"0<=X<200\" == x else x)\n",
    "df[\"checking_status\"] = df[\"checking_status\"].apply(lambda x: \"High\" if \">=200\" == x else x)"
   ]
  },
  {
   "cell_type": "code",
   "execution_count": 7,
   "metadata": {},
   "outputs": [
    {
     "data": {
      "text/plain": [
       "No Checking    394\n",
       "Low            274\n",
       "Medium         269\n",
       "High            63\n",
       "Name: checking_status, dtype: int64"
      ]
     },
     "execution_count": 7,
     "metadata": {},
     "output_type": "execute_result"
    }
   ],
   "source": [
    "df[\"checking_status\"].value_counts()"
   ]
  },
  {
   "cell_type": "markdown",
   "metadata": {},
   "source": [
    "Editing savings_status col"
   ]
  },
  {
   "cell_type": "code",
   "execution_count": 8,
   "metadata": {},
   "outputs": [
    {
     "data": {
      "text/plain": [
       "<100                603\n",
       "no known savings    183\n",
       "100<=X<500          103\n",
       "500<=X<1000          63\n",
       ">=1000               48\n",
       "Name: savings_status, dtype: int64"
      ]
     },
     "execution_count": 8,
     "metadata": {},
     "output_type": "execute_result"
    }
   ],
   "source": [
    "df[\"savings_status\"].value_counts()"
   ]
  },
  {
   "cell_type": "code",
   "execution_count": 9,
   "metadata": {},
   "outputs": [],
   "source": [
    "df[\"savings_status\"] = df[\"savings_status\"].apply(lambda x: \"No Savings\" if \"no known savings\" == x else x)\n",
    "df[\"savings_status\"] = df[\"savings_status\"].apply(lambda x: \"Low\" if \"<100\" == x else x)\n",
    "df[\"savings_status\"] = df[\"savings_status\"].apply(lambda x: \"Medium\" if \"100<=X<500\" == x else x)\n",
    "df[\"savings_status\"] = df[\"savings_status\"].apply(lambda x: \"High\" if \"500<=X<1000\" == x or \">=1000\" == x else x)"
   ]
  },
  {
   "cell_type": "code",
   "execution_count": 10,
   "metadata": {},
   "outputs": [
    {
     "data": {
      "text/plain": [
       "Low           603\n",
       "No Savings    183\n",
       "High          111\n",
       "Medium        103\n",
       "Name: savings_status, dtype: int64"
      ]
     },
     "execution_count": 10,
     "metadata": {},
     "output_type": "execute_result"
    }
   ],
   "source": [
    "df[\"savings_status\"].value_counts()"
   ]
  },
  {
   "cell_type": "markdown",
   "metadata": {},
   "source": [
    "1) Editing class cols and 2) employment "
   ]
  },
  {
   "cell_type": "code",
   "execution_count": 11,
   "metadata": {},
   "outputs": [
    {
     "data": {
      "text/plain": [
       "good    700\n",
       "bad     300\n",
       "Name: class, dtype: int64"
      ]
     },
     "execution_count": 11,
     "metadata": {},
     "output_type": "execute_result"
    }
   ],
   "source": [
    "df[\"class\"].value_counts()"
   ]
  },
  {
   "cell_type": "code",
   "execution_count": 12,
   "metadata": {},
   "outputs": [],
   "source": [
    "df[\"class\"] = df[\"class\"].apply(lambda x: \"1\" if \"good\" == x else \"2\")"
   ]
  },
  {
   "cell_type": "code",
   "execution_count": 13,
   "metadata": {},
   "outputs": [
    {
     "data": {
      "text/plain": [
       "1    700\n",
       "2    300\n",
       "Name: class, dtype: int64"
      ]
     },
     "execution_count": 13,
     "metadata": {},
     "output_type": "execute_result"
    }
   ],
   "source": [
    "df[\"class\"].value_counts()"
   ]
  },
  {
   "cell_type": "code",
   "execution_count": 14,
   "metadata": {},
   "outputs": [
    {
     "data": {
      "text/plain": [
       "1<=X<4        339\n",
       ">=7           253\n",
       "4<=X<7        174\n",
       "<1            172\n",
       "unemployed     62\n",
       "Name: employment, dtype: int64"
      ]
     },
     "execution_count": 14,
     "metadata": {},
     "output_type": "execute_result"
    }
   ],
   "source": [
    "df[\"employment\"].value_counts()"
   ]
  },
  {
   "cell_type": "code",
   "execution_count": 16,
   "metadata": {},
   "outputs": [],
   "source": [
    "df[\"employment\"] = df[\"employment\"].apply(lambda x: \"Umemployed\" if \"unemployed\" == x else x)\n",
    "df[\"employment\"] = df[\"employment\"].apply(lambda x: \"Amateur\" if \"<1\" == x else x)\n",
    "df[\"employment\"] = df[\"employment\"].apply(lambda x: \"Professional\" if \"1<=X<4\" == x else x)\n",
    "df[\"employment\"] = df[\"employment\"].apply(lambda x: \"Experienced\" if \"4<=X<7\" == x else x)\n",
    "df[\"employment\"] = df[\"employment\"].apply(lambda x: \"Expert\" if \">=7\" == x else x)\n"
   ]
  },
  {
   "cell_type": "code",
   "execution_count": 17,
   "metadata": {},
   "outputs": [
    {
     "data": {
      "text/plain": [
       "Professional    339\n",
       "Expert          253\n",
       "Experienced     174\n",
       "Amateur         172\n",
       "Umemployed       62\n",
       "Name: employment, dtype: int64"
      ]
     },
     "execution_count": 17,
     "metadata": {},
     "output_type": "execute_result"
    }
   ],
   "source": [
    "df[\"employment\"].value_counts()"
   ]
  },
  {
   "cell_type": "markdown",
   "metadata": {},
   "source": [
    "Processing Part Done."
   ]
  },
  {
   "cell_type": "markdown",
   "metadata": {},
   "source": [
    "Analysis:"
   ]
  },
  {
   "cell_type": "markdown",
   "metadata": {},
   "source": [
    "CrossTab Section"
   ]
  },
  {
   "cell_type": "code",
   "execution_count": 19,
   "metadata": {},
   "outputs": [
    {
     "data": {
      "text/html": [
       "<div>\n",
       "<style scoped>\n",
       "    .dataframe tbody tr th:only-of-type {\n",
       "        vertical-align: middle;\n",
       "    }\n",
       "\n",
       "    .dataframe tbody tr th {\n",
       "        vertical-align: top;\n",
       "    }\n",
       "\n",
       "    .dataframe thead th {\n",
       "        text-align: right;\n",
       "    }\n",
       "</style>\n",
       "<table border=\"1\" class=\"dataframe\">\n",
       "  <thead>\n",
       "    <tr style=\"text-align: right;\">\n",
       "      <th>class</th>\n",
       "      <th>1</th>\n",
       "      <th>2</th>\n",
       "    </tr>\n",
       "    <tr>\n",
       "      <th>foreign_worker</th>\n",
       "      <th></th>\n",
       "      <th></th>\n",
       "    </tr>\n",
       "  </thead>\n",
       "  <tbody>\n",
       "    <tr>\n",
       "      <th>no</th>\n",
       "      <td>33</td>\n",
       "      <td>4</td>\n",
       "    </tr>\n",
       "    <tr>\n",
       "      <th>yes</th>\n",
       "      <td>667</td>\n",
       "      <td>296</td>\n",
       "    </tr>\n",
       "  </tbody>\n",
       "</table>\n",
       "</div>"
      ],
      "text/plain": [
       "class             1    2\n",
       "foreign_worker          \n",
       "no               33    4\n",
       "yes             667  296"
      ]
     },
     "execution_count": 19,
     "metadata": {},
     "output_type": "execute_result"
    }
   ],
   "source": [
    "# 1 is good\n",
    "# 2 is bad\n",
    "# since we changed the names earlier\n",
    "pd.crosstab(df['foreign_worker'], df['class'])"
   ]
  },
  {
   "cell_type": "code",
   "execution_count": 20,
   "metadata": {},
   "outputs": [
    {
     "data": {
      "text/html": [
       "<div>\n",
       "<style scoped>\n",
       "    .dataframe tbody tr th:only-of-type {\n",
       "        vertical-align: middle;\n",
       "    }\n",
       "\n",
       "    .dataframe tbody tr th {\n",
       "        vertical-align: top;\n",
       "    }\n",
       "\n",
       "    .dataframe thead th {\n",
       "        text-align: right;\n",
       "    }\n",
       "</style>\n",
       "<table border=\"1\" class=\"dataframe\">\n",
       "  <thead>\n",
       "    <tr style=\"text-align: right;\">\n",
       "      <th>savings_status</th>\n",
       "      <th>High</th>\n",
       "      <th>Low</th>\n",
       "      <th>Medium</th>\n",
       "      <th>No Savings</th>\n",
       "    </tr>\n",
       "    <tr>\n",
       "      <th>employment</th>\n",
       "      <th></th>\n",
       "      <th></th>\n",
       "      <th></th>\n",
       "      <th></th>\n",
       "    </tr>\n",
       "  </thead>\n",
       "  <tbody>\n",
       "    <tr>\n",
       "      <th>Amateur</th>\n",
       "      <td>12</td>\n",
       "      <td>120</td>\n",
       "      <td>17</td>\n",
       "      <td>23</td>\n",
       "    </tr>\n",
       "    <tr>\n",
       "      <th>Experienced</th>\n",
       "      <td>18</td>\n",
       "      <td>100</td>\n",
       "      <td>24</td>\n",
       "      <td>32</td>\n",
       "    </tr>\n",
       "    <tr>\n",
       "      <th>Expert</th>\n",
       "      <td>34</td>\n",
       "      <td>133</td>\n",
       "      <td>22</td>\n",
       "      <td>64</td>\n",
       "    </tr>\n",
       "    <tr>\n",
       "      <th>Professional</th>\n",
       "      <td>44</td>\n",
       "      <td>210</td>\n",
       "      <td>33</td>\n",
       "      <td>52</td>\n",
       "    </tr>\n",
       "    <tr>\n",
       "      <th>Umemployed</th>\n",
       "      <td>3</td>\n",
       "      <td>40</td>\n",
       "      <td>7</td>\n",
       "      <td>12</td>\n",
       "    </tr>\n",
       "  </tbody>\n",
       "</table>\n",
       "</div>"
      ],
      "text/plain": [
       "savings_status  High  Low  Medium  No Savings\n",
       "employment                                   \n",
       "Amateur           12  120      17          23\n",
       "Experienced       18  100      24          32\n",
       "Expert            34  133      22          64\n",
       "Professional      44  210      33          52\n",
       "Umemployed         3   40       7          12"
      ]
     },
     "execution_count": 20,
     "metadata": {},
     "output_type": "execute_result"
    }
   ],
   "source": [
    "\n",
    "pd.crosstab(df['employment'], df['savings_status'])"
   ]
  },
  {
   "cell_type": "markdown",
   "metadata": {},
   "source": [
    "Average credit_amount for single males that have 4 ≤x<7 years of employment."
   ]
  },
  {
   "cell_type": "code",
   "execution_count": 21,
   "metadata": {},
   "outputs": [
    {
     "name": "stdout",
     "output_type": "stream",
     "text": [
      "4142.592592592592\n"
     ]
    }
   ],
   "source": [
    "df[\"personal_status\"].value_counts()\n",
    "# under employment col, 4<=X<7 is Experienced\n",
    "creditCount = 0\n",
    "tempSumForCreditCount = 0\n",
    "average_credit_amount = 0\n",
    "\n",
    "for ind in df.index:\n",
    "    personal = df['personal_status'][ind]\n",
    "    employ =  df['employment'][ind]\n",
    "    cc = df[\"credit_amount\"][ind]\n",
    "    if(personal == \"male single\" and employ == \"Experienced\"):\n",
    "        tempSumForCreditCount = tempSumForCreditCount + cc\n",
    "        creditCount += 1\n",
    "        \n",
    "average_credit_amount = tempSumForCreditCount / creditCount\n",
    "print(average_credit_amount)\n",
    "\n",
    "# print(df.iloc[2])"
   ]
  },
  {
   "cell_type": "markdown",
   "metadata": {},
   "source": [
    "Average creadit_duration for each of the job types"
   ]
  },
  {
   "cell_type": "code",
   "execution_count": 22,
   "metadata": {},
   "outputs": [
    {
     "name": "stdout",
     "output_type": "stream",
     "text": [
      "{'skilled': 21.41111111111111, 'unskilled resident': 16.535, 'high qualif/self emp/mgmt': 25.16891891891892, 'unemp/unskilled non res': 17.363636363636363}\n"
     ]
    }
   ],
   "source": [
    "jobTypesToCredit = {}\n",
    "jobTypesToCreditCount = {}\n",
    "df[\"job\"].value_counts()\n",
    "for ind in df.index:\n",
    "    tempJob = df['job'][ind]\n",
    "    duration =  df['duration'][ind]\n",
    "    if jobTypesToCredit.get(tempJob) == None:\n",
    "        jobTypesToCredit[tempJob] = duration\n",
    "        jobTypesToCreditCount[tempJob] = 1\n",
    "    else:\n",
    "        jobTypesToCredit[tempJob] += duration\n",
    "        jobTypesToCreditCount[tempJob] += 1\n",
    "    # print(tempJob, duration)\n",
    "    \n",
    "# print(jobTypesToCreditCount)\n",
    "# print(jobTypesToCredit)\n",
    "jobToCreditCountAnswer = {}\n",
    "for key, val in jobTypesToCreditCount.items():\n",
    "    jobToCreditCountAnswer[key] = jobTypesToCredit[key] / jobTypesToCreditCount[key]\n",
    "print(jobToCreditCountAnswer)\n",
    "    "
   ]
  },
  {
   "cell_type": "markdown",
   "metadata": {},
   "source": [
    "Most common checking_status and savings_status for purpose of education:"
   ]
  },
  {
   "cell_type": "code",
   "execution_count": 23,
   "metadata": {},
   "outputs": [
    {
     "name": "stdout",
     "output_type": "stream",
     "text": [
      "Most common checking status: No Checking\n",
      "Most common savings status: Low\n"
     ]
    }
   ],
   "source": [
    "purposeEducation = df[df[\"purpose\"] == \"education\"]\n",
    "df[\"purpose\"].value_counts()\n",
    "# for ind in df.index:\n",
    "#     purpose = df['purpose'][ind]\n",
    "c = purposeEducation[\"checking_status\"].value_counts()\n",
    "# print(c)\n",
    "checkingCommon = c.index[0]\n",
    "\n",
    "s = purposeEducation[\"savings_status\"].value_counts()\n",
    "# print(s)\n",
    "savingsCommon = s.index[0]\n",
    "# index 0 means the most common one\n",
    "print(f'Most common checking status: {checkingCommon}')\n",
    "print(f'Most common savings status: {savingsCommon}')"
   ]
  },
  {
   "cell_type": "markdown",
   "metadata": {},
   "source": [
    "Analysis Done."
   ]
  },
  {
   "cell_type": "markdown",
   "metadata": {},
   "source": [
    "Visualization Part"
   ]
  },
  {
   "cell_type": "markdown",
   "metadata": {},
   "source": [
    "Plot subplots of two histograms: one with savings_status\n",
    "on the x-axis and personal_status as different colors, and another\n",
    "with checking_status on the x-axis and personal_status as differ-\n",
    "ent colors."
   ]
  },
  {
   "cell_type": "code",
   "execution_count": 24,
   "metadata": {},
   "outputs": [
    {
     "data": {
      "text/plain": [
       "Text(0, 0.5, 'peronsal status')"
      ]
     },
     "execution_count": 24,
     "metadata": {},
     "output_type": "execute_result"
    },
    {
     "data": {
      "image/png": "[encoded data removed]",
      "text/plain": [
       "<Figure size 640x480 with 2 Axes>"
      ]
     },
     "metadata": {},
     "output_type": "display_data"
    }
   ],
   "source": [
    "# get info from cross tab and save it\n",
    "ss = pd.crosstab(df['savings_status'], df['personal_status'])\n",
    "# pd.crosstab(df[\"checking_status\"],df['personal_status'])\n",
    "# ss.plot(kind=\"bar\")\n",
    "\n",
    "cs = pd.crosstab(df[\"checking_status\"],df[\"personal_status\"])\n",
    "# cs.plot(kind=\"bar\")\n",
    "fig, axes = plt.subplots(1,2)\n",
    "ss.plot(kind=\"bar\", ax = axes[0])\n",
    "cs.plot(kind=\"bar\", ax = axes[1],color = ['#fb6cbf','#fa2da3','#1afe6f','#88fe46'])\n",
    "axes[0].set_ylabel(\"peronsal status\")\n"
   ]
  },
  {
   "cell_type": "markdown",
   "metadata": {},
   "source": [
    "For people having credit_amount more than 4000, plot a\n",
    "bar graph which maps property_magnitude (x-axis) to the average\n",
    "customer age for that magnitude (y-axis)."
   ]
  },
  {
   "cell_type": "code",
   "execution_count": 25,
   "metadata": {},
   "outputs": [
    {
     "data": {
      "image/png": "[encoded data removed]",
      "text/plain": [
       "<Figure size 640x480 with 1 Axes>"
      ]
     },
     "metadata": {},
     "output_type": "display_data"
    }
   ],
   "source": [
    "pmToAge = {}\n",
    "pmToAgeCount = {}\n",
    "pmToAgeAnswer = {}\n",
    "for ind in df.index:\n",
    "    ca = df['credit_amount'][ind]\n",
    "    pm =  df['property_magnitude'][ind]\n",
    "    age = df['age'][ind]\n",
    "    if(ca > 4000):\n",
    "        # print(pm)\n",
    "        if(pmToAge.get(pm) == None):\n",
    "            pmToAge[pm] = age\n",
    "            pmToAgeCount[pm] = 1\n",
    "        else:\n",
    "            pmToAge[pm] += age\n",
    "            pmToAgeCount[pm] += 1\n",
    "# print(pmToAge)\n",
    "# print(pmToAgeCount)\n",
    "xList = []\n",
    "yList= []\n",
    "for key, val in pmToAge.items():\n",
    "    pmToAgeAnswer[key] = pmToAge[key] / pmToAgeCount[key]\n",
    "    xList.append(key)\n",
    "    yList.append(pmToAge[key] / pmToAgeCount[key])\n",
    "# print(pmToAgeAnswer)\n",
    "# print(xList,yList)\n",
    "plt.bar(xList,yList, color = ['#fb6cbf','#fa2da3','#fafe6f','#f8fe46'])\n",
    "plt.title(\"For people has credit_amount more than 4000: Property Magnitude VS Age\")\n",
    "plt.xlabel(\"property_magnitude\",fontsize=15)\n",
    "plt.ylabel(\"average customer age\",fontsize=15)\n",
    "plt.show()"
   ]
  },
  {
   "cell_type": "markdown",
   "metadata": {},
   "source": [
    "For people with a “High” savings_status and age above\n",
    "40, use subplots to plot the following pie charts:"
   ]
  },
  {
   "cell_type": "code",
   "execution_count": 26,
   "metadata": {},
   "outputs": [
    {
     "data": {
      "text/plain": [
       "Text(0.5, 1.0, 'job')"
      ]
     },
     "execution_count": 26,
     "metadata": {},
     "output_type": "execute_result"
    },
    {
     "data": {
      "image/png": "[encoded data removed]",
      "text/plain": [
       "<Figure size 640x480 with 4 Axes>"
      ]
     },
     "metadata": {},
     "output_type": "display_data"
    }
   ],
   "source": [
    "personal = {}\n",
    "creditHistry = {}\n",
    "jobs = {}\n",
    "for ind in df.index:\n",
    "    ss = df['savings_status'][ind]\n",
    "    age =  df['age'][ind]\n",
    "    p = df[\"personal_status\"][ind]\n",
    "    ch = df[\"credit_history\"][ind]\n",
    "    job = df[\"job\"][ind]\n",
    "    if(ss == \"High\" and age > 40):\n",
    "        # print(ss, age)\n",
    "        # for personal_status\n",
    "        if(personal.get(p) == None):\n",
    "            personal[p] = 1\n",
    "        else:\n",
    "            personal[p] += 1\n",
    "        # for credit_history\n",
    "        if(creditHistry.get(ch) == None):\n",
    "            creditHistry[ch] = 1\n",
    "        else:\n",
    "            creditHistry[ch] += 1\n",
    "        # for jobs\n",
    "        if(jobs.get(job) == None):\n",
    "            jobs[job] = 1\n",
    "        else:\n",
    "            jobs[job] += 1\n",
    "        \n",
    "# print(personal)        \n",
    "# print(creditHistry)\n",
    "# print(jobs)\n",
    "\n",
    "fig, axes = plt.subplots(2,2)\n",
    "\n",
    "# turn last graph off index at [1,1]\n",
    "axes[1][1].set_axis_off()\n",
    "\n",
    "# create personal_status list\n",
    "personalvalue = []\n",
    "personalLabel = []\n",
    "for key, val in personal.items():\n",
    "    personalvalue.append(val)\n",
    "    personalLabel.append(key)\n",
    "\n",
    "axes[0][0].pie(personalvalue, labels=personalLabel, autopct='%1.1f%%')\n",
    "axes[0][0].set_title('personal_status',fontsize = 18)\n",
    "\n",
    "\n",
    "# create credit_history list\n",
    "creditHistryVal = []\n",
    "creditHistryLabel = []\n",
    "for key, val in creditHistry.items():\n",
    "    creditHistryVal.append(val)\n",
    "    creditHistryLabel.append(key)\n",
    "axes[0][1].pie(creditHistryVal, labels=creditHistryLabel, autopct='%1.1f%%')\n",
    "axes[0][1].set_title(\"credit_history\",fontsize = 18)\n",
    "\n",
    "# create jobs list\n",
    "jobsVal = []\n",
    "jobsLabel = []\n",
    "for key, val in jobs.items():\n",
    "    jobsVal.append(val)\n",
    "    jobsLabel.append(key)\n",
    "axes[1][0].pie(jobsVal, labels=jobsLabel, autopct='%1.1f%%')\n",
    "axes[1][0].set_title(\"job\",fontsize = 18)\n"
   ]
  }
 ],
 "metadata": {
  "kernelspec": {
   "display_name": "Python 3 (ipykernel)",
   "language": "python",
   "name": "python3"
  },
  "language_info": {
   "codemirror_mode": {
    "name": "ipython",
    "version": 3
   },
   "file_extension": ".py",
   "mimetype": "text/x-python",
   "name": "python",
   "nbconvert_exporter": "python",
   "pygments_lexer": "ipython3",
   "version": "3.9.12"
  },
  "vscode": {
   "interpreter": {
    "hash": "85e5e8d0ae80779dfdae3c57c1dd197323de303db3d141f236622372d2ecf786"
   }
  }
 },
 "nbformat": 4,
 "nbformat_minor": 2
}
