{
 "cells": [
  {
   "cell_type": "markdown",
   "metadata": {},
   "source": [
    "### <font color=\"brown\">Regular Expressions Continued</font>"
   ]
  },
  {
   "cell_type": "code",
   "execution_count": null,
   "metadata": {},
   "outputs": [],
   "source": [
    "import re"
   ]
  },
  {
   "cell_type": "markdown",
   "metadata": {},
   "source": [
    "---"
   ]
  },
  {
   "cell_type": "markdown",
   "metadata": {},
   "source": [
    "#### <font color=\"brown\">Special regular expression sequences to match predefined sets of characters</font>\n",
    "1. Whitespace: \\\\s, \\\\S\n",
    "2. Word (alphanumeric, plus underscore) characters: \\\\w, \\\\W\n",
    "3. Digits: \\\\d, \\\\D\n",
    "4. Word Boundary: \\\\b"
   ]
  },
  {
   "cell_type": "markdown",
   "metadata": {},
   "source": [
    "---"
   ]
  },
  {
   "cell_type": "markdown",
   "metadata": {},
   "source": [
    "**Whitespace**\n",
    "- \\\\s : matches any whitespace character (including tab and newline)\n",
    "- \\\\S : matches any non-whitespace character "
   ]
  },
  {
   "cell_type": "code",
   "execution_count": null,
   "metadata": {},
   "outputs": [],
   "source": [
    "# at least two of '.','?',or '!', followed by whitespace\n",
    "def matchit(astr):\n",
    "    res = re.search(r'[.?!]{2,}\\s+',astr) \n",
    "    print(res) if res else print('no match')"
   ]
  },
  {
   "cell_type": "code",
   "execution_count": null,
   "metadata": {},
   "outputs": [],
   "source": [
    "matchit('...What the?')  "
   ]
  },
  {
   "cell_type": "code",
   "execution_count": null,
   "metadata": {},
   "outputs": [],
   "source": [
    "matchit('... What the?') "
   ]
  },
  {
   "cell_type": "markdown",
   "metadata": {},
   "source": [
    "**In the above, the space after ... is matched by \\\\s+**"
   ]
  },
  {
   "cell_type": "code",
   "execution_count": null,
   "metadata": {},
   "outputs": [],
   "source": [
    "matchit('...  What the?') "
   ]
  },
  {
   "cell_type": "code",
   "execution_count": null,
   "metadata": {},
   "outputs": [],
   "source": [
    "matchit('What the?!! Next...')"
   ]
  },
  {
   "cell_type": "code",
   "execution_count": null,
   "metadata": {},
   "outputs": [],
   "source": [
    "# at least 4 non-whitespace characters followed by at least one whitespace\n",
    "res = re.search(r'\\S{4,}\\s+','The quick brown fox...')\n",
    "print(res)"
   ]
  },
  {
   "cell_type": "code",
   "execution_count": null,
   "metadata": {},
   "outputs": [],
   "source": [
    "# can specify whitspace alternatively by using [] class with space, tab, and newline\n",
    "astr = '... What the?'\n",
    "res = re.search(r'[.?!]{2,}[ \\t\\n]+',astr)  \n",
    "print(res)"
   ]
  },
  {
   "cell_type": "markdown",
   "metadata": {},
   "source": [
    "---"
   ]
  },
  {
   "cell_type": "markdown",
   "metadata": {},
   "source": [
    "**\"Word\": characters (alphanumeric)**\n",
    "\n",
    "- \\\\w : matches any alphanumeric character => [a-zA-Z0-9_]  (includes underscore)\n",
    "- \\\\W : matches any non-alphanumeric character => [^a-zA-Z0-9_]  "
   ]
  },
  {
   "cell_type": "code",
   "execution_count": null,
   "metadata": {},
   "outputs": [],
   "source": [
    "# want at least 4 word characters followed by at least one whitespace\n",
    "res = re.search(r'\\w{4,}\\s+',\"Hey! What's up?\")\n",
    "print(res)"
   ]
  },
  {
   "cell_type": "code",
   "execution_count": null,
   "metadata": {},
   "outputs": [],
   "source": [
    "# want at least 4 word characters followed by at least one whitespace\n",
    "res = re.search(r'\\w{4,}\\s+',\"Hey! What's up with you?\")\n",
    "print(res)"
   ]
  },
  {
   "cell_type": "markdown",
   "metadata": {},
   "source": [
    "---"
   ]
  },
  {
   "cell_type": "markdown",
   "metadata": {},
   "source": [
    "**Digits**\n",
    "\n",
    "- \\\\d : matches any digit character => [0-9]\n",
    "- \\\\D : matches any non-digit character => [^0-9]"
   ]
  },
  {
   "cell_type": "markdown",
   "metadata": {},
   "source": [
    "##### Exercise:\n",
    "Write a regular expression to determine if a given string is an acceptable phone number.<br>\n",
    "Following are the acceptable phone number formats (d stands for digit):\n",
    "- ddddddddd\n",
    "- ddd-ddd-dddd\n",
    "- (ddd)ddddddd\n",
    "- (ddd)ddd-dddd"
   ]
  },
  {
   "cell_type": "markdown",
   "metadata": {},
   "source": [
    "**First, let's handle the last two variants that have ()**"
   ]
  },
  {
   "cell_type": "code",
   "execution_count": null,
   "metadata": {},
   "outputs": [],
   "source": [
    "while True:\n",
    "    astr = input(\"phone number? ('quit' to stop) \")\n",
    "    if astr == 'quit':\n",
    "        break\n",
    "    res = re.search(r'^\\(\\d{3}\\)\\d{3}-?\\d{4}$',astr)  # escape '(' and ')' because they are metachars\n",
    "    print('match') if res else print('no match')"
   ]
  },
  {
   "cell_type": "markdown",
   "metadata": {},
   "source": [
    "**Next, let's strengthen the above with the ability to handle leading/trailing whitespaces**"
   ]
  },
  {
   "cell_type": "code",
   "execution_count": null,
   "metadata": {},
   "outputs": [],
   "source": [
    "while True:\n",
    "    astr = input(\"phone number? ('quit' to stop) \")\n",
    "    if astr == 'quit':\n",
    "        break\n",
    "    res = re.search(r'^\\s*\\(\\d{3}\\)\\d{3}-?\\d{4}\\s*$',astr)  # \\s* after ^ and before $\n",
    "    print('match') if res else print('no match')"
   ]
  },
  {
   "cell_type": "markdown",
   "metadata": {},
   "source": [
    "**For the non '( )' variants, we can't have a single pattern using -? for each of the - positions because it will match even if only one dash is present, and the other is not**"
   ]
  },
  {
   "cell_type": "code",
   "execution_count": null,
   "metadata": {},
   "outputs": [],
   "source": [
    "# so, for instance, it will work for this string\n",
    "res = re.search(r'^\\s*\\d{3}-?\\d{3}-?\\d{4}\\s*$','  848-445-2790')\n",
    "print(res)"
   ]
  },
  {
   "cell_type": "code",
   "execution_count": null,
   "metadata": {},
   "outputs": [],
   "source": [
    "# but also for this string, which is not an acceptable variant\n",
    "res = re.search(r'^\\s*\\d{3}-?\\d{3}-?\\d{4}\\s*$','  848-4452790')\n",
    "print(res)"
   ]
  },
  {
   "cell_type": "markdown",
   "metadata": {},
   "source": [
    "**So let's do one pattern to catch both dashes**"
   ]
  },
  {
   "cell_type": "code",
   "execution_count": null,
   "metadata": {},
   "outputs": [],
   "source": [
    "# both dashes\n",
    "print(re.search(r'^\\s*\\d{3}-\\d{3}-\\d{4}\\s*$','  848-445-2790   '))"
   ]
  },
  {
   "cell_type": "markdown",
   "metadata": {},
   "source": [
    "**And another pattern to catch a straight sequence of 10 digits**"
   ]
  },
  {
   "cell_type": "code",
   "execution_count": null,
   "metadata": {},
   "outputs": [],
   "source": [
    "# 10 digits in sequence\n",
    "print(re.search(r'^\\s*\\d{10}\\s*$','  8484452790   '))"
   ]
  },
  {
   "cell_type": "markdown",
   "metadata": {},
   "source": [
    "**Final solution, single regexp to catch all variants**"
   ]
  },
  {
   "cell_type": "code",
   "execution_count": null,
   "metadata": {},
   "outputs": [],
   "source": [
    "# next, let's strengthen the above with the ability to handle leading/trailing whitespaces\n",
    "while True:\n",
    "    astr = input(\"phone number? ('quit' to stop) \")\n",
    "    if astr == 'quit':\n",
    "        break\n",
    "    res = re.search(r'\\s*(\\(\\d{3}\\)\\d{3}-?\\d{4}|\\d{3}-\\d{3}-\\d{4}|\\d{10})\\s*$',astr) \n",
    "    print('match') if res else print('no match')"
   ]
  },
  {
   "cell_type": "markdown",
   "metadata": {},
   "source": [
    "---"
   ]
  },
  {
   "cell_type": "markdown",
   "metadata": {},
   "source": [
    "**Word boundary**\n",
    "- \\\\b : matches only at word boundary (doesn't actually match any character, just sets the rule).\n",
    "(Remember, a word is a sequence of alphanumeric characters plus underscore.)<br> "
   ]
  },
  {
   "cell_type": "code",
   "execution_count": null,
   "metadata": {},
   "outputs": [],
   "source": [
    "# check if a string contains the word 'part'\n",
    "res = re.search(r'\\b[pP]art\\b',\"I'm going to a party tomorrow\")\n",
    "print(res)\n",
    "res = re.search(r'\\b[pP]art\\b',\"This is the best part of the movie.\")\n",
    "print(res)\n",
    "res = re.search(r'\\b[pP]art\\b',\"This is a big apartment.\")\n",
    "print(res)\n",
    "res = re.search(r'\\b[p|P]art\\b','Til death do us part') # end of string is also word boundary\n",
    "print(res)"
   ]
  },
  {
   "cell_type": "code",
   "execution_count": null,
   "metadata": {},
   "outputs": [],
   "source": [
    "res = re.search(r'\\b[eE]pisode\\b',\"Episode3 has a high rating.\") \n",
    "print(res)"
   ]
  },
  {
   "cell_type": "markdown",
   "metadata": {},
   "source": [
    "**In the above, since word includes digits, the '3' is not a word boundary**"
   ]
  },
  {
   "cell_type": "markdown",
   "metadata": {},
   "source": [
    "---"
   ]
  },
  {
   "cell_type": "markdown",
   "metadata": {},
   "source": [
    "#### <font color=\"brown\">Using the match function</font>\n",
    "**The match function always starts matching from the beginning of string**"
   ]
  },
  {
   "cell_type": "code",
   "execution_count": null,
   "metadata": {},
   "outputs": [],
   "source": [
    "print(re.search('ar','barbaric')) # 'ar' is in 'barbaric'\n",
    "print(re.match('ar','barbaric')) # but 'barbaric' doesn't begin with 'ar'"
   ]
  },
  {
   "cell_type": "code",
   "execution_count": null,
   "metadata": {},
   "outputs": [],
   "source": [
    "# match all strings that start with ar, end with t, \n",
    "# and have at least one lowercase letter between\n",
    "\n",
    "res = re.search('^ar[a-z]+t$', 'arrest')  # version 1, using search\n",
    "print(res)\n",
    "res = re.match('ar[a-z]+t$', 'arrest')  # version 2, using match   \n",
    "print(res)"
   ]
  },
  {
   "cell_type": "markdown",
   "metadata": {},
   "source": [
    "**Note that if you want to match an entire string with the match function, you will still need to use $ at the end**"
   ]
  },
  {
   "cell_type": "markdown",
   "metadata": {},
   "source": [
    "---"
   ]
  },
  {
   "cell_type": "markdown",
   "metadata": {},
   "source": [
    "#### <font color=\"brown\">Using the match object returned by search/match</font>\n",
    "**Applying the methods group(), span(), start(), end()**"
   ]
  },
  {
   "cell_type": "code",
   "execution_count": null,
   "metadata": {},
   "outputs": [],
   "source": [
    "res = re.search('at', 'catch')  # returned Match object is stored in res "
   ]
  },
  {
   "cell_type": "markdown",
   "metadata": {},
   "source": [
    "**group() returns the matched result string**"
   ]
  },
  {
   "cell_type": "code",
   "execution_count": null,
   "metadata": {},
   "outputs": [],
   "source": [
    "print(res.group())"
   ]
  },
  {
   "cell_type": "markdown",
   "metadata": {},
   "source": [
    "**span() returns the range tuple (start,end) indices of matching part of original string**"
   ]
  },
  {
   "cell_type": "code",
   "execution_count": null,
   "metadata": {},
   "outputs": [],
   "source": [
    "print(res.span())"
   ]
  },
  {
   "cell_type": "markdown",
   "metadata": {},
   "source": [
    "**start() and end() return starting and ending indices of matching part of original string**"
   ]
  },
  {
   "cell_type": "code",
   "execution_count": null,
   "metadata": {},
   "outputs": [],
   "source": [
    "print(res.start()) \n",
    "print(res.end()) "
   ]
  },
  {
   "cell_type": "markdown",
   "metadata": {},
   "source": [
    "**of course, you can get these same values from the tuple returned by span()**"
   ]
  },
  {
   "cell_type": "code",
   "execution_count": null,
   "metadata": {},
   "outputs": [],
   "source": [
    "start,end = res.span()\n",
    "print(start,',',end)"
   ]
  },
  {
   "cell_type": "markdown",
   "metadata": {},
   "source": [
    "**By definition, re.match() will always return a span that starts at 0 (if a match is found)**"
   ]
  },
  {
   "cell_type": "code",
   "execution_count": null,
   "metadata": {},
   "outputs": [],
   "source": [
    "res = re.match(r'<.*?>','<span>This is within a span tag in html</span>')  # non-greedy\n",
    "print(res.group())\n",
    "print(res.span())\n",
    "print(res.start())\n",
    "print(res.end())"
   ]
  },
  {
   "cell_type": "code",
   "execution_count": null,
   "metadata": {},
   "outputs": [],
   "source": [
    "res = re.match(r'<.*>','<span>This is within a span tag in html</span>')  # greedy\n",
    "print(res.group())\n",
    "print(res.span())\n",
    "print(res.start())\n",
    "print(res.end())"
   ]
  },
  {
   "cell_type": "markdown",
   "metadata": {},
   "source": [
    "**Be careful to check for existence of returned match object before applying methods!**"
   ]
  },
  {
   "cell_type": "code",
   "execution_count": null,
   "metadata": {},
   "outputs": [],
   "source": [
    "res = re.match('bar','sandbar')\n",
    "print(res.group())"
   ]
  },
  {
   "cell_type": "code",
   "execution_count": null,
   "metadata": {},
   "outputs": [],
   "source": [
    "# defend!\n",
    "res = re.match('bar','sandbar')\n",
    "print(res.group()) if res else print('No match')"
   ]
  },
  {
   "cell_type": "markdown",
   "metadata": {},
   "source": [
    "**Typical usage is to store in Match object, check if it exists (not None), and then get matched string with group**"
   ]
  },
  {
   "cell_type": "code",
   "execution_count": null,
   "metadata": {},
   "outputs": [],
   "source": [
    "# find out if a string contains any sequence that starts with ar, ends with t, \n",
    "# and has at least one lowercase letter between\n",
    "def substr(astr):\n",
    "    res = re.search('ar[a-z]+t',astr)  \n",
    "    print('Match:',res.group()) if res else print('No match')\n",
    "        \n",
    "substr('parasite')\n",
    "substr('artist')\n",
    "substr('part')"
   ]
  },
  {
   "cell_type": "markdown",
   "metadata": {},
   "source": [
    "---"
   ]
  },
  {
   "cell_type": "markdown",
   "metadata": {},
   "source": [
    "#### <font color=\"brown\">Splitting a string with split function</font>"
   ]
  },
  {
   "cell_type": "code",
   "execution_count": null,
   "metadata": {},
   "outputs": [],
   "source": [
    "str = 'ab;cd'\n",
    "re.split(';',str)"
   ]
  },
  {
   "cell_type": "code",
   "execution_count": null,
   "metadata": {},
   "outputs": [],
   "source": [
    "str.split(';')"
   ]
  },
  {
   "cell_type": "code",
   "execution_count": null,
   "metadata": {},
   "outputs": [],
   "source": [
    "str = 'Really? I mean, really?!'\n",
    "re.split('[?!]',str)"
   ]
  },
  {
   "cell_type": "markdown",
   "metadata": {},
   "source": [
    "**Regexp split will split separately on each of the characters in the given class.<br>\n",
    "Also, notice the empty string returned between consecutive split characters,<br>\n",
    "and between consecutive split character and end of string**"
   ]
  },
  {
   "cell_type": "code",
   "execution_count": null,
   "metadata": {},
   "outputs": [],
   "source": [
    "str.split('?!')"
   ]
  },
  {
   "cell_type": "markdown",
   "metadata": {},
   "source": [
    "**But String.split will only split on ALL characters in the given set as a group.<br>\n",
    "Empty string returned as in regexpt split**"
   ]
  },
  {
   "cell_type": "code",
   "execution_count": null,
   "metadata": {},
   "outputs": [],
   "source": [
    "# split into words, using \\W (non-word character) as delimiter\n",
    "res = re.split('\\W+','This   is  a bunch of words!')\n",
    "print(res)"
   ]
  },
  {
   "cell_type": "markdown",
   "metadata": {},
   "source": [
    "---"
   ]
  },
  {
   "cell_type": "markdown",
   "metadata": {},
   "source": [
    "#### <font color=\"brown\">Substituting in a string with sub function</font>"
   ]
  },
  {
   "cell_type": "code",
   "execution_count": null,
   "metadata": {},
   "outputs": [],
   "source": [
    "# substitute all digits in 'Account number 1223456789' with '#'\n",
    "re.sub('\\d','#','Account number 1223456789')"
   ]
  },
  {
   "cell_type": "code",
   "execution_count": null,
   "metadata": {},
   "outputs": [],
   "source": [
    "# substitute last 3 digits with '#'\n",
    "re.sub('\\d{3}$','###','Account number 1223456789')"
   ]
  },
  {
   "cell_type": "code",
   "execution_count": null,
   "metadata": {},
   "outputs": [],
   "source": [
    "# removing comments from html\n",
    "# <!-- this is a comment -->\n",
    "\n",
    "htmlstr = 'Before comment...<!-- This is a comment -->, and after comment'\n",
    "res = re.sub('<!--.*-->','', htmlstr)  # replace comment with nothing\n",
    "print(res)"
   ]
  },
  {
   "cell_type": "code",
   "execution_count": null,
   "metadata": {},
   "outputs": [],
   "source": [
    "# warning, the regexp is greedy!\n",
    "htmlstr = 'Before first... <!-- comment1 -->between first and second <!-- comment2--> ... after second'\n",
    "res = re.sub('<!--.*-->','', htmlstr)  # replace comment with nothing\n",
    "print(res)"
   ]
  },
  {
   "cell_type": "markdown",
   "metadata": {},
   "source": [
    "**Since the regexp above does a greedy match, everything from the first '<' to the last '>' is matched,<br>\n",
    "including the string between the two comment sections**"
   ]
  },
  {
   "cell_type": "code",
   "execution_count": null,
   "metadata": {},
   "outputs": [],
   "source": [
    "# make it non-greedy\n",
    "htmlstr = 'Before first... <!-- comment1 -->between first and second <!-- comment2--> ... after second'\n",
    "res = re.sub('<!--.*?-->','', htmlstr)\n",
    "print(res)"
   ]
  },
  {
   "cell_type": "code",
   "execution_count": null,
   "metadata": {},
   "outputs": [],
   "source": [
    "# does not work with a multiline string\n",
    "htmlstr2 = \"\"\"<!-- first \n",
    "comment -->Not a comment<!-- comment2 -->\"\"\"\n",
    "res = re.sub('<!--.*?-->','', htmlstr2)\n",
    "print(res)"
   ]
  },
  {
   "cell_type": "markdown",
   "metadata": {},
   "source": [
    "**The '.' metacharacter does not match a newline**"
   ]
  },
  {
   "cell_type": "code",
   "execution_count": null,
   "metadata": {},
   "outputs": [],
   "source": [
    "# change to either . or newline\n",
    "res = re.sub(r'<!--(.|\\n)*?-->','', htmlstr2)\n",
    "print(res)"
   ]
  },
  {
   "cell_type": "markdown",
   "metadata": {},
   "source": [
    "---"
   ]
  },
  {
   "cell_type": "markdown",
   "metadata": {},
   "source": [
    "#### <font color=\"brown\">Grouping/Capturing</font>"
   ]
  },
  {
   "cell_type": "code",
   "execution_count": null,
   "metadata": {},
   "outputs": [],
   "source": [
    "# want to extract (\"capture\") area code and local part from phone number\n",
    "# assume format (ddd)ddd-dddd\n",
    "\n",
    "res = re.match(r'\\s*\\((\\d{3})\\)(\\d{3}-\\d{4})', '(848)445-2790')"
   ]
  },
  {
   "cell_type": "markdown",
   "metadata": {},
   "source": [
    "**Notice the grouping/capturing with parentheses around the area code part, as in (\\d{3})\n",
    "and likewise for the entire non-area code part**"
   ]
  },
  {
   "cell_type": "code",
   "execution_count": null,
   "metadata": {},
   "outputs": [],
   "source": [
    "print(res.group())  # for the whole thing\n",
    "print(res.groups()) # for all parts captured with ( )\n",
    "print(res.group(0)) # entire thing\n",
    "print(res.group(1)) # first grouping with ( )\n",
    "print(res.group(2)) # second grouping with ( )"
   ]
  },
  {
   "cell_type": "code",
   "execution_count": null,
   "metadata": {},
   "outputs": [],
   "source": [
    "# equally, you can use search instead of match, just make sure to use ^ for start of string\n",
    "res = re.search(r'^\\s*\\((\\d{3})\\)(\\d{3}-\\d{4})', '(848)445-2790')"
   ]
  },
  {
   "cell_type": "code",
   "execution_count": null,
   "metadata": {},
   "outputs": [],
   "source": [
    "print(res.group())  # for the whole thing\n",
    "print(res.groups()) # for all parts grouped with ( )\n",
    "print(res.group(0)) # entire thing\n",
    "print(res.group(1)) # first grouping with ( )\n",
    "print(res.group(2)) # second grouping with ( )"
   ]
  },
  {
   "cell_type": "code",
   "execution_count": null,
   "metadata": {},
   "outputs": [],
   "source": [
    "# alternatively, you can index into the groups() tuple\n",
    "print(res.groups()[0])\n",
    "print(res.groups()[1])"
   ]
  },
  {
   "cell_type": "code",
   "execution_count": null,
   "metadata": {},
   "outputs": [],
   "source": [
    "# iterate through all the groups\n",
    "res = re.match(r'\\s*\\((\\d{3})\\)(\\d{3}-\\d{4})', '(848)445-2790')\n",
    "if res:\n",
    "    for gr in res.groups():\n",
    "        print(gr)"
   ]
  },
  {
   "cell_type": "markdown",
   "metadata": {},
   "source": [
    "**Numbering and back-referencing capture groups**"
   ]
  },
  {
   "cell_type": "code",
   "execution_count": null,
   "metadata": {},
   "outputs": [],
   "source": [
    "# captures can be numbered, and backreferenced using numbers\n",
    "res = re.search(r'(air).*\\1','cool air or hot air')\n",
    "print(res)"
   ]
  },
  {
   "cell_type": "code",
   "execution_count": null,
   "metadata": {},
   "outputs": [],
   "source": [
    "# captures can be numbered, and backreferenced using numbers\n",
    "res = re.search(r'(air).*\\1','cool air or hot')\n",
    "print(res)"
   ]
  },
  {
   "cell_type": "markdown",
   "metadata": {},
   "source": [
    "**When using back references, make sure to use raw string for the regexp, otherwise it won't work, see below**"
   ]
  },
  {
   "cell_type": "code",
   "execution_count": null,
   "metadata": {},
   "outputs": [],
   "source": [
    "# same as 2 cells above, but without using raw string\n",
    "res = re.search('(air).*\\1','cool air or hot air')\n",
    "print(res)"
   ]
  },
  {
   "cell_type": "markdown",
   "metadata": {},
   "source": [
    "---"
   ]
  },
  {
   "cell_type": "markdown",
   "metadata": {},
   "source": [
    "#### <font color=\"brown\">Pre-compiling a regular expression</font>"
   ]
  },
  {
   "cell_type": "markdown",
   "metadata": {},
   "source": [
    "**Sometimes it's easier to \"compile\" a regular expression and use it several times later**"
   ]
  },
  {
   "cell_type": "code",
   "execution_count": null,
   "metadata": {},
   "outputs": [],
   "source": [
    "pattrn = re.compile(r'\\s*\\((\\d{3})\\)(\\d{3}-\\d{4})')\n",
    "res = pattrn.match('(848)445-2790')\n",
    "print(res.groups())"
   ]
  },
  {
   "cell_type": "code",
   "execution_count": null,
   "metadata": {},
   "outputs": [],
   "source": [
    "patt = re.compile(r'\\s*#?\\s*(\\d+)')\n",
    "res = patt.match('#25 Infinite Loop,Cupertino,CA 12345')\n",
    "print(res.groups())\n",
    "res = patt.match(' # 25 Infinite Loop,Cupertino,CA 12345')\n",
    "print(res.groups())\n",
    "res = patt.match(' 25 Infinite Loop,Cupertino,CA 12345')\n",
    "print(res.groups())"
   ]
  },
  {
   "cell_type": "markdown",
   "metadata": {},
   "source": [
    "---"
   ]
  },
  {
   "cell_type": "markdown",
   "metadata": {},
   "source": [
    "**Exercise**\n",
    "<pre>\n",
    "Given a string of the form:\n",
    "     '\"&lt;last name>, &lt;first name>\",&lt;netid>'\n",
    "\n",
    "Output the string:\n",
    "     '&lt;first name>,&lt;last name>,&lt;netid>'\n",
    "\n",
    "e.g. '\"  Smith,   Bob \", bs123 ' => 'Bob,Smith,bs123@rutgers.edu'\n",
    "</pre>"
   ]
  },
  {
   "cell_type": "code",
   "execution_count": null,
   "metadata": {},
   "outputs": [],
   "source": [
    "# capture the last name, first name and netid and use the captures to construct result\n",
    "# allow for leading and trailing whitespaces around name and netid, and whitespaces around comma separators \n",
    "student_str = '\"  Smith ,   Bob \" , bs123 '\n",
    "res = re.sub(r'\"\\s*(\\S+)\\s*,\\s*(\\S+)\\s*\"\\s*,\\s*(\\w+)\\s*',r'\\2,\\1,\\3@rutgers.edu',student_str)\n",
    "print(res)"
   ]
  },
  {
   "cell_type": "code",
   "execution_count": null,
   "metadata": {},
   "outputs": [],
   "source": [
    "# what if try pre-compiling both the strings?\n",
    "student_str = '\"  Smith,   Bob \", sv123 '\n",
    "target = re.compile(r'\"\\s*(\\S*)\\s*,\\s*(\\S*)\\s*\"\\s*,\\s*(\\w*)')\n",
    "repl = re.compile(r'\\2,\\1,\\3@rutgers.edu')\n",
    "res = re.sub(target,repl,student_str)\n",
    "print(res)"
   ]
  },
  {
   "cell_type": "markdown",
   "metadata": {},
   "source": [
    "**The above doesn't work: the context of the pattern is restricted to the target variable, so the references to the captured groups in the repl variable are out of context**"
   ]
  }
 ],
 "metadata": {
  "kernelspec": {
   "display_name": "Python 3 (ipykernel)",
   "language": "python",
   "name": "python3"
  },
  "language_info": {
   "codemirror_mode": {
    "name": "ipython",
    "version": 3
   },
   "file_extension": ".py",
   "mimetype": "text/x-python",
   "name": "python",
   "nbconvert_exporter": "python",
   "pygments_lexer": "ipython3",
   "version": "3.10.7"
  }
 },
 "nbformat": 4,
 "nbformat_minor": 4
}
