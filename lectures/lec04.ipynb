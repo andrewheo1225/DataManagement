{
 "cells": [
  {
   "cell_type": "markdown",
   "metadata": {},
   "source": [
    "### <font color=\"brown\">Command line arguments to a Python program</font>"
   ]
  },
  {
   "cell_type": "code",
   "execution_count": 1,
   "metadata": {},
   "outputs": [],
   "source": [
    "def tempconvert(temp, dir='f2c'):\n",
    "    \"\"\"\n",
    "    This function converts Fahrenheit to Celsius (default), \n",
    "    and vice versa.\n",
    "    \"\"\"\n",
    "    try:\n",
    "        if dir == 'f2c':\n",
    "            f = float(temp)\n",
    "            c = (f - 32) / 9 * 5\n",
    "            return c\n",
    "        elif dir == 'c2f':\n",
    "            c = float(temp)\n",
    "            f = c * 9 / 5 + 32\n",
    "            return f\n",
    "        else:\n",
    "            print(f'You must enter either f2c or c2f, you entered {dir}')\n",
    "    except ValueError:\n",
    "        print(f'Temperature must be real number, you gave {temp}')"
   ]
  },
  {
   "cell_type": "code",
   "execution_count": 2,
   "metadata": {},
   "outputs": [],
   "source": [
    "import sys\n",
    "\n",
    "def main():\n",
    "    args = len(sys.argv)  # command line arguments``\n",
    "    \n",
    "    # no parameters given (first arg is program name)\n",
    "    # or too many parameters\n",
    "    if args == 1 or args > 3:\n",
    "        print(f'usage: {sys.argv[0]} temperature [\"f2c\"|\"c2f\"]')\n",
    "        return\n",
    "    \n",
    "    if args == 2: # one paramater, temperature\n",
    "        res = tempconvert(float(sys.argv[1]))\n",
    "    else: # two parameters\n",
    "        res = tempconvert(float(sys.argv[1]), sys.argv[2])\n",
    "        \n",
    "    print(res)"
   ]
  },
  {
   "cell_type": "code",
   "execution_count": 3,
   "metadata": {},
   "outputs": [
    {
     "ename": "ValueError",
     "evalue": "could not convert string to float: '-f'",
     "output_type": "error",
     "traceback": [
      "\u001b[0;31m---------------------------------------------------------------------------\u001b[0m",
      "\u001b[0;31mValueError\u001b[0m                                Traceback (most recent call last)",
      "\u001b[0;32m/tmp/ipykernel_36550/451043146.py\u001b[0m in \u001b[0;36m<module>\u001b[0;34m\u001b[0m\n\u001b[0;32m----> 1\u001b[0;31m \u001b[0mmain\u001b[0m\u001b[0;34m(\u001b[0m\u001b[0;34m)\u001b[0m\u001b[0;34m\u001b[0m\u001b[0;34m\u001b[0m\u001b[0m\n\u001b[0m",
      "\u001b[0;32m/tmp/ipykernel_36550/3478604195.py\u001b[0m in \u001b[0;36mmain\u001b[0;34m()\u001b[0m\n\u001b[1;32m     13\u001b[0m         \u001b[0mres\u001b[0m \u001b[0;34m=\u001b[0m \u001b[0mtempconvert\u001b[0m\u001b[0;34m(\u001b[0m\u001b[0mfloat\u001b[0m\u001b[0;34m(\u001b[0m\u001b[0msys\u001b[0m\u001b[0;34m.\u001b[0m\u001b[0margv\u001b[0m\u001b[0;34m[\u001b[0m\u001b[0;36m1\u001b[0m\u001b[0;34m]\u001b[0m\u001b[0;34m)\u001b[0m\u001b[0;34m)\u001b[0m\u001b[0;34m\u001b[0m\u001b[0;34m\u001b[0m\u001b[0m\n\u001b[1;32m     14\u001b[0m     \u001b[0;32melse\u001b[0m\u001b[0;34m:\u001b[0m \u001b[0;31m# two parameters\u001b[0m\u001b[0;34m\u001b[0m\u001b[0;34m\u001b[0m\u001b[0m\n\u001b[0;32m---> 15\u001b[0;31m         \u001b[0mres\u001b[0m \u001b[0;34m=\u001b[0m \u001b[0mtempconvert\u001b[0m\u001b[0;34m(\u001b[0m\u001b[0mfloat\u001b[0m\u001b[0;34m(\u001b[0m\u001b[0msys\u001b[0m\u001b[0;34m.\u001b[0m\u001b[0margv\u001b[0m\u001b[0;34m[\u001b[0m\u001b[0;36m1\u001b[0m\u001b[0;34m]\u001b[0m\u001b[0;34m)\u001b[0m\u001b[0;34m,\u001b[0m \u001b[0msys\u001b[0m\u001b[0;34m.\u001b[0m\u001b[0margv\u001b[0m\u001b[0;34m[\u001b[0m\u001b[0;36m2\u001b[0m\u001b[0;34m]\u001b[0m\u001b[0;34m)\u001b[0m\u001b[0;34m\u001b[0m\u001b[0;34m\u001b[0m\u001b[0m\n\u001b[0m\u001b[1;32m     16\u001b[0m \u001b[0;34m\u001b[0m\u001b[0m\n\u001b[1;32m     17\u001b[0m     \u001b[0mprint\u001b[0m\u001b[0;34m(\u001b[0m\u001b[0mres\u001b[0m\u001b[0;34m)\u001b[0m\u001b[0;34m\u001b[0m\u001b[0;34m\u001b[0m\u001b[0m\n",
      "\u001b[0;31mValueError\u001b[0m: could not convert string to float: '-f'"
     ]
    }
   ],
   "source": [
    "main()"
   ]
  },
  {
   "cell_type": "markdown",
   "metadata": {},
   "source": [
    "**Above doesn't work. We need to transfer the code to a standalone Python program file - say convertargs.py - and execute it in Terminal**"
   ]
  },
  {
   "cell_type": "markdown",
   "metadata": {},
   "source": [
    "---"
   ]
  },
  {
   "cell_type": "markdown",
   "metadata": {},
   "source": [
    "### <font color=\"brown\">Repetition with while loop</font>"
   ]
  },
  {
   "cell_type": "code",
   "execution_count": 7,
   "metadata": {},
   "outputs": [],
   "source": [
    "def sum_it(cap):\n",
    "    num=1\n",
    "    sum=0\n",
    "    while num <= cap:\n",
    "        sum += num # same as sum = sum + num\n",
    "        num += 1   # same as num = num + 1\n",
    "    return sum"
   ]
  },
  {
   "cell_type": "code",
   "execution_count": 8,
   "metadata": {},
   "outputs": [
    {
     "name": "stdout",
     "output_type": "stream",
     "text": [
      "sum = 15\n"
     ]
    }
   ],
   "source": [
    "print(f'sum = {sum_it(5)}')"
   ]
  },
  {
   "cell_type": "code",
   "execution_count": 12,
   "metadata": {},
   "outputs": [],
   "source": [
    "def sum_it(cap):\n",
    "    sum=0\n",
    "    while cap > 0:\n",
    "        sum += cap \n",
    "        cap -= 1\n",
    "    return sum"
   ]
  },
  {
   "cell_type": "code",
   "execution_count": 14,
   "metadata": {},
   "outputs": [
    {
     "name": "stdout",
     "output_type": "stream",
     "text": [
      "sum = 15\n"
     ]
    }
   ],
   "source": [
    "print(f'sum = {sum_it(5)}')"
   ]
  },
  {
   "cell_type": "code",
   "execution_count": 17,
   "metadata": {},
   "outputs": [
    {
     "name": "stdout",
     "output_type": "stream",
     "text": [
      "15\n"
     ]
    }
   ],
   "source": [
    "cap=5\n",
    "sum = 0\n",
    "while True:\n",
    "    sum += cap\n",
    "    cap -= 1\n",
    "    if cap == 0:\n",
    "        break\n",
    "print(sum)"
   ]
  },
  {
   "cell_type": "code",
   "execution_count": 22,
   "metadata": {},
   "outputs": [
    {
     "name": "stdout",
     "output_type": "stream",
     "text": [
      "Enter next integer, 0 to stop:  12.x\n",
      "Input must be an integer\n",
      "Enter next integer, 0 to stop:  2\n",
      "Enter next integer, 0 to stop:  0\n",
      "2\n"
     ]
    }
   ],
   "source": [
    "# 'waterfall' problem, read from input until a 'guard' value indicates termination\n",
    "# guard can be any pre-determined value that is not acceptable as a legit input \n",
    "sum = 0\n",
    "while True:\n",
    "    try:\n",
    "        val = int(input('Enter next integer, 0 to stop: '))\n",
    "        if val == 0:\n",
    "            break\n",
    "        sum += val\n",
    "    except ValueError:\n",
    "        print(\"Input must be an integer\")\n",
    "print(sum)"
   ]
  },
  {
   "cell_type": "code",
   "execution_count": 2,
   "metadata": {},
   "outputs": [],
   "source": [
    "# check if number is prime\n",
    "import math\n",
    "\n",
    "def is_prime(num):\n",
    "    if num < 1:\n",
    "        print('Number must be positive integer')\n",
    "        return\n",
    "    if num == 1:\n",
    "        return False\n",
    "    if num == 2:\n",
    "        return True\n",
    "    if num % 2 == 0:\n",
    "        return False\n",
    "    # check odd numbers for divisors\n",
    "    d = 3\n",
    "    while (d <= math.sqrt(num)):\n",
    "        if num % d == 0:\n",
    "            return False\n",
    "        d += 2\n",
    "    return True\n",
    "\n",
    "def try_prime():\n",
    "    while True:\n",
    "        try:\n",
    "            val = int(input('Enter positive integer, 0 to stop: '))\n",
    "            if val == 0:\n",
    "                break\n",
    "            if val < 1:\n",
    "                print(\"Input must be a positive integer\")\n",
    "                continue\n",
    "            if is_prime(val) == True:\n",
    "                print(f'{val} is a prime')\n",
    "            else:\n",
    "                print(f'{val} is not a prime')\n",
    "        except ValueError:\n",
    "            print(\"Input must be a positive integer\")"
   ]
  },
  {
   "cell_type": "code",
   "execution_count": 3,
   "metadata": {},
   "outputs": [
    {
     "name": "stdout",
     "output_type": "stream",
     "text": [
      "Enter positive integer, 0 to stop: -1\n",
      "Input must be a positive integer\n",
      "Enter positive integer, 0 to stop: 5\n",
      "5 is a prime\n",
      "Enter positive integer, 0 to stop: 12\n",
      "12 is not a prime\n",
      "Enter positive integer, 0 to stop: 0\n"
     ]
    }
   ],
   "source": [
    "try_prime()"
   ]
  },
  {
   "cell_type": "markdown",
   "metadata": {},
   "source": [
    "---"
   ]
  },
  {
   "cell_type": "markdown",
   "metadata": {},
   "source": [
    "### <font color=\"brown\">Repetition with for, range function, iterating over string</font>"
   ]
  },
  {
   "cell_type": "markdown",
   "metadata": {},
   "source": [
    "#### <font color='brown'>Repetition with for, range function</font>"
   ]
  },
  {
   "cell_type": "code",
   "execution_count": 53,
   "metadata": {},
   "outputs": [
    {
     "name": "stdout",
     "output_type": "stream",
     "text": [
      "sum = 15\n"
     ]
    }
   ],
   "source": [
    "sum = 0\n",
    "for r in range(6):  # 0, 1, 2, 3, 4, 5\n",
    "    sum += r\n",
    "print(f'sum = {sum}')"
   ]
  },
  {
   "cell_type": "code",
   "execution_count": 54,
   "metadata": {},
   "outputs": [
    {
     "name": "stdout",
     "output_type": "stream",
     "text": [
      "sum = 20\n"
     ]
    }
   ],
   "source": [
    "sum = 0\n",
    "for r in range(3, 8):  # 3, 4, 5, 6, 7\n",
    "    sum += 4\n",
    "print(f'sum = {sum}')"
   ]
  },
  {
   "cell_type": "code",
   "execution_count": 31,
   "metadata": {},
   "outputs": [
    {
     "name": "stdout",
     "output_type": "stream",
     "text": [
      "sum =  25\n"
     ]
    }
   ],
   "source": [
    "sum = 0\n",
    "for r in range(1, 10, 2):  # 1, 3, 5, 7, 9\n",
    "    sum = sum + r\n",
    "print('sum = ', sum)"
   ]
  },
  {
   "cell_type": "code",
   "execution_count": 55,
   "metadata": {},
   "outputs": [
    {
     "name": "stdout",
     "output_type": "stream",
     "text": [
      "sum = 30\n"
     ]
    }
   ],
   "source": [
    "sum = 0\n",
    "for r in range(8, 3, -1):  # 8, 7, 6, 5, 4\n",
    "    sum += r\n",
    "print(f'sum = {sum}')"
   ]
  },
  {
   "cell_type": "code",
   "execution_count": 29,
   "metadata": {},
   "outputs": [],
   "source": [
    "# nested iteration\n",
    "def lower_triangle(lines=5):\n",
    "    for l in range(1,lines+1):\n",
    "        for stars in range(l):\n",
    "            print('*',end=\"\")\n",
    "        print()"
   ]
  },
  {
   "cell_type": "code",
   "execution_count": 30,
   "metadata": {},
   "outputs": [
    {
     "name": "stdout",
     "output_type": "stream",
     "text": [
      "*\n",
      "**\n",
      "***\n",
      "****\n",
      "*****\n"
     ]
    }
   ],
   "source": [
    "lower_triangle()"
   ]
  },
  {
   "cell_type": "code",
   "execution_count": 31,
   "metadata": {},
   "outputs": [],
   "source": [
    "# nested iteration, string multiplier\n",
    "def lower_triangle(lines=5):\n",
    "    for l in range(1,lines+1):\n",
    "        print('*'*l)"
   ]
  },
  {
   "cell_type": "code",
   "execution_count": 32,
   "metadata": {},
   "outputs": [
    {
     "name": "stdout",
     "output_type": "stream",
     "text": [
      "*\n",
      "**\n",
      "***\n",
      "****\n",
      "*****\n"
     ]
    }
   ],
   "source": [
    "lower_triangle()"
   ]
  },
  {
   "cell_type": "markdown",
   "metadata": {},
   "source": [
    "---"
   ]
  },
  {
   "cell_type": "markdown",
   "metadata": {},
   "source": [
    "#### <font color='brown'>Iterating over characters in a string, membership with \"in\"</font>"
   ]
  },
  {
   "cell_type": "code",
   "execution_count": 84,
   "metadata": {},
   "outputs": [],
   "source": [
    "# count number of vowels and consonants in a string\n",
    "def countVowelsAndConsonants(str):\n",
    "    v_count=0\n",
    "    c_count=0\n",
    "    for ch in str:  # cycles through each character in the string, in is membership operator\n",
    "        if ch.lower() in 'aeiou': # checks for membership in vowel list\n",
    "            v_count += 1\n",
    "        else:\n",
    "            c_count += 1\n",
    "    return v_count, c_count"
   ]
  },
  {
   "cell_type": "code",
   "execution_count": 87,
   "metadata": {},
   "outputs": [
    {
     "name": "stdout",
     "output_type": "stream",
     "text": [
      "#vowels=1, #consonants=5\n"
     ]
    }
   ],
   "source": [
    "vc, cc = countVowelsAndConsonants('string')\n",
    "print(f'#vowels={vc}, #consonants={cc}')"
   ]
  },
  {
   "cell_type": "code",
   "execution_count": 90,
   "metadata": {},
   "outputs": [
    {
     "name": "stdout",
     "output_type": "stream",
     "text": [
      "#vowels=13, #consonants=35\n"
     ]
    }
   ],
   "source": [
    "vc, cc = countVowelsAndConsonants('And the quick brown fox jumped over the lazy dog')\n",
    "print(f'#vowels={vc}, #consonants={cc}')"
   ]
  },
  {
   "cell_type": "markdown",
   "metadata": {},
   "source": [
    "---"
   ]
  },
  {
   "cell_type": "markdown",
   "metadata": {},
   "source": [
    "### <font color='brown'>Lists</font>"
   ]
  },
  {
   "cell_type": "code",
   "execution_count": 5,
   "metadata": {},
   "outputs": [],
   "source": [
    "# lists\n",
    "\n",
    "listofints = [1, -2, 3]\n",
    "listofreals = [1.2, 3, 6.8, -12]\n",
    "listofstrings = ['cs', 'ee', 'math']\n",
    "mixedlist = [1, 'a', 2.5]"
   ]
  },
  {
   "cell_type": "code",
   "execution_count": 6,
   "metadata": {},
   "outputs": [
    {
     "data": {
      "text/plain": [
       "3"
      ]
     },
     "execution_count": 6,
     "metadata": {},
     "output_type": "execute_result"
    }
   ],
   "source": [
    "len(listofints)"
   ]
  },
  {
   "cell_type": "markdown",
   "metadata": {},
   "source": [
    "**Making a list out of characters in a string, list of lists**"
   ]
  },
  {
   "cell_type": "code",
   "execution_count": 7,
   "metadata": {},
   "outputs": [
    {
     "name": "stdout",
     "output_type": "stream",
     "text": [
      "['a', 'b', 'c', 'd', 'e']\n"
     ]
    }
   ],
   "source": [
    "strlst = list('abcde')\n",
    "print(strlst)"
   ]
  },
  {
   "cell_type": "code",
   "execution_count": 8,
   "metadata": {},
   "outputs": [
    {
     "data": {
      "text/plain": [
       "[[1, -2, 3], 'abc', 'def']"
      ]
     },
     "execution_count": 8,
     "metadata": {},
     "output_type": "execute_result"
    }
   ],
   "source": [
    "# list of lists\n",
    "[[1,-2,3], 'abc', 'def']"
   ]
  },
  {
   "cell_type": "code",
   "execution_count": 4,
   "metadata": {},
   "outputs": [
    {
     "data": {
      "text/plain": [
       "[[1, -2, 3], 'abc', 'def']"
      ]
     },
     "execution_count": 4,
     "metadata": {},
     "output_type": "execute_result"
    }
   ],
   "source": [
    "[listofints, 'abc', 'def']"
   ]
  },
  {
   "cell_type": "code",
   "execution_count": 9,
   "metadata": {},
   "outputs": [
    {
     "data": {
      "text/plain": [
       "3"
      ]
     },
     "execution_count": 9,
     "metadata": {},
     "output_type": "execute_result"
    }
   ],
   "source": [
    "len([listofints, 'abc', 'def'])"
   ]
  },
  {
   "cell_type": "markdown",
   "metadata": {},
   "source": [
    "**List \"aggregation\" functions**"
   ]
  },
  {
   "cell_type": "code",
   "execution_count": 14,
   "metadata": {},
   "outputs": [
    {
     "name": "stdout",
     "output_type": "stream",
     "text": [
      "3\n",
      "-2\n"
     ]
    }
   ],
   "source": [
    "print(max(listofints)) \n",
    "print(min(listofints)) "
   ]
  },
  {
   "cell_type": "code",
   "execution_count": 15,
   "metadata": {},
   "outputs": [
    {
     "data": {
      "text/plain": [
       "2"
      ]
     },
     "execution_count": 15,
     "metadata": {},
     "output_type": "execute_result"
    }
   ],
   "source": [
    "sum(listofints)"
   ]
  },
  {
   "cell_type": "markdown",
   "metadata": {},
   "source": [
    "The sum function above works if we don't execute the cells up toward the beginning of this notebook where we defined sum as a variable. If we had, then the sum variable would already be defined, which would conflict with the sum function used in the cell above, and the sum(listofints) call would not work. Moral of the story is to not use Python function names as variable names!"
   ]
  }
 ],
 "metadata": {
  "kernelspec": {
   "display_name": "Python 3 (ipykernel)",
   "language": "python",
   "name": "python3"
  },
  "language_info": {
   "codemirror_mode": {
    "name": "ipython",
    "version": 3
   },
   "file_extension": ".py",
   "mimetype": "text/x-python",
   "name": "python",
   "nbconvert_exporter": "python",
   "pygments_lexer": "ipython3",
   "version": "3.10.7"
  },
  "vscode": {
   "interpreter": {
    "hash": "aee8b7b246df8f9039afb4144a1f6fd8d2ca17a180786b69acc140d282b71a49"
   }
  }
 },
 "nbformat": 4,
 "nbformat_minor": 4
}
