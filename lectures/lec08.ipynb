{
 "cells": [
  {
   "cell_type": "markdown",
   "metadata": {},
   "source": [
    "### <font color=\"brown\">Writing to a File</font>"
   ]
  },
  {
   "cell_type": "code",
   "execution_count": 1,
   "metadata": {},
   "outputs": [
    {
     "name": "stdout",
     "output_type": "stream",
     "text": [
      "{'Jenna': 80, 'Dylan': 78, 'Anis': 65, 'Keisha': 82}\n"
     ]
    }
   ],
   "source": [
    "grades = {'Jenna': 80, 'Dylan': 78, 'Anis': 65, 'Keisha': 82}\n",
    "print(grades)"
   ]
  },
  {
   "cell_type": "markdown",
   "metadata": {},
   "source": [
    "**Open file in \"w\" (write) mode, and write to it**"
   ]
  },
  {
   "cell_type": "code",
   "execution_count": 2,
   "metadata": {},
   "outputs": [],
   "source": [
    "scores_file = open(\"scores_file.txt\",\"w\")   # open a file in \"write\" mode\n",
    "for key,value in grades.items():\n",
    "    scores_file.write(key + ' has ' + str(value) + '\\n')  # call write method on file\n",
    "scores_file.close()  # make sure to close the file"
   ]
  },
  {
   "cell_type": "markdown",
   "metadata": {},
   "source": [
    "---"
   ]
  },
  {
   "cell_type": "markdown",
   "metadata": {},
   "source": [
    "#### Exercise: Parsing a population file with '|' field separator"
   ]
  },
  {
   "cell_type": "code",
   "execution_count": 5,
   "metadata": {},
   "outputs": [],
   "source": [
    "# read populations from file into a dictionary\n",
    "# country name is key, population is value\n",
    "# each line of file is <country>|<population>\n",
    "# population may have commas, need to remove\n",
    "\n",
    "def getPopulations(file):\n",
    "    pops = {}\n",
    "    for line in open(file):\n",
    "        country, pop = line.split('|')\n",
    "        population = int(pop.replace(',',''))  # using string replace method\n",
    "        pops[country] = population\n",
    "    return pops"
   ]
  },
  {
   "cell_type": "code",
   "execution_count": 6,
   "metadata": {},
   "outputs": [
    {
     "ename": "FileNotFoundError",
     "evalue": "[Errno 2] No such file or directory: 'population.txt'",
     "output_type": "error",
     "traceback": [
      "\u001b[0;31m---------------------------------------------------------------------------\u001b[0m",
      "\u001b[0;31mFileNotFoundError\u001b[0m                         Traceback (most recent call last)",
      "Cell \u001b[0;32mIn [6], line 1\u001b[0m\n\u001b[0;32m----> 1\u001b[0m populations \u001b[38;5;241m=\u001b[39m \u001b[43mgetPopulations\u001b[49m\u001b[43m(\u001b[49m\u001b[38;5;124;43m'\u001b[39;49m\u001b[38;5;124;43mpopulation.txt\u001b[39;49m\u001b[38;5;124;43m'\u001b[39;49m\u001b[43m)\u001b[49m\n",
      "Cell \u001b[0;32mIn [5], line 8\u001b[0m, in \u001b[0;36mgetPopulations\u001b[0;34m(file)\u001b[0m\n\u001b[1;32m      6\u001b[0m \u001b[38;5;28;01mdef\u001b[39;00m \u001b[38;5;21mgetPopulations\u001b[39m(file):\n\u001b[1;32m      7\u001b[0m     pops \u001b[38;5;241m=\u001b[39m {}\n\u001b[0;32m----> 8\u001b[0m     \u001b[38;5;28;01mfor\u001b[39;00m line \u001b[38;5;129;01min\u001b[39;00m \u001b[38;5;28;43mopen\u001b[39;49m\u001b[43m(\u001b[49m\u001b[43mfile\u001b[49m\u001b[43m)\u001b[49m:\n\u001b[1;32m      9\u001b[0m         country, pop \u001b[38;5;241m=\u001b[39m line\u001b[38;5;241m.\u001b[39msplit(\u001b[38;5;124m'\u001b[39m\u001b[38;5;124m|\u001b[39m\u001b[38;5;124m'\u001b[39m)\n\u001b[1;32m     10\u001b[0m         population \u001b[38;5;241m=\u001b[39m \u001b[38;5;28mint\u001b[39m(pop\u001b[38;5;241m.\u001b[39mreplace(\u001b[38;5;124m'\u001b[39m\u001b[38;5;124m,\u001b[39m\u001b[38;5;124m'\u001b[39m,\u001b[38;5;124m'\u001b[39m\u001b[38;5;124m'\u001b[39m))  \u001b[38;5;66;03m# using string replace method\u001b[39;00m\n",
      "\u001b[0;31mFileNotFoundError\u001b[0m: [Errno 2] No such file or directory: 'population.txt'"
     ]
    }
   ],
   "source": [
    "populations = getPopulations('population.txt')"
   ]
  },
  {
   "cell_type": "code",
   "execution_count": null,
   "metadata": {},
   "outputs": [],
   "source": [
    "populations['China']"
   ]
  },
  {
   "cell_type": "code",
   "execution_count": null,
   "metadata": {},
   "outputs": [],
   "source": [
    "populations['Nepal']"
   ]
  },
  {
   "cell_type": "markdown",
   "metadata": {},
   "source": [
    "**Use list comprehension to get countries with population over 1 million**"
   ]
  },
  {
   "cell_type": "code",
   "execution_count": null,
   "metadata": {},
   "outputs": [],
   "source": [
    "large_pops = [c for c,p in populations.items() if p > 100000000 ]\n",
    "print(large_pops)"
   ]
  },
  {
   "cell_type": "markdown",
   "metadata": {},
   "source": [
    "---"
   ]
  },
  {
   "cell_type": "markdown",
   "metadata": {},
   "source": [
    "#### Exercise: Counting words in a document using Counter"
   ]
  },
  {
   "cell_type": "code",
   "execution_count": 7,
   "metadata": {},
   "outputs": [
    {
     "ename": "FileNotFoundError",
     "evalue": "[Errno 2] No such file or directory: 'metamorphosis.txt'",
     "output_type": "error",
     "traceback": [
      "\u001b[0;31m---------------------------------------------------------------------------\u001b[0m",
      "\u001b[0;31mFileNotFoundError\u001b[0m                         Traceback (most recent call last)",
      "Cell \u001b[0;32mIn [7], line 4\u001b[0m\n\u001b[1;32m      1\u001b[0m \u001b[38;5;28;01mfrom\u001b[39;00m \u001b[38;5;21;01mcollections\u001b[39;00m \u001b[38;5;28;01mimport\u001b[39;00m Counter\n\u001b[1;32m      3\u001b[0m word_counts \u001b[38;5;241m=\u001b[39m Counter()\n\u001b[0;32m----> 4\u001b[0m \u001b[38;5;28;01mfor\u001b[39;00m line \u001b[38;5;129;01min\u001b[39;00m \u001b[38;5;28;43mopen\u001b[39;49m\u001b[43m(\u001b[49m\u001b[38;5;124;43m'\u001b[39;49m\u001b[38;5;124;43mmetamorphosis.txt\u001b[39;49m\u001b[38;5;124;43m'\u001b[39;49m\u001b[43m)\u001b[49m:\n\u001b[1;32m      5\u001b[0m     tokens \u001b[38;5;241m=\u001b[39m line\u001b[38;5;241m.\u001b[39msplit()  \u001b[38;5;66;03m# separate into non-whitespace sequences\u001b[39;00m\n\u001b[1;32m      6\u001b[0m     \u001b[38;5;28;01mfor\u001b[39;00m token \u001b[38;5;129;01min\u001b[39;00m tokens:\n",
      "\u001b[0;31mFileNotFoundError\u001b[0m: [Errno 2] No such file or directory: 'metamorphosis.txt'"
     ]
    }
   ],
   "source": [
    "from collections import Counter\n",
    "\n",
    "word_counts = Counter()\n",
    "for line in open('metamorphosis.txt'):\n",
    "    tokens = line.split()  # separate into non-whitespace sequences\n",
    "    for token in tokens:\n",
    "        word_counts.update([token.lower().strip(',.')])  # strip ',' and '.' from words"
   ]
  },
  {
   "cell_type": "code",
   "execution_count": 8,
   "metadata": {},
   "outputs": [
    {
     "name": "stdout",
     "output_type": "stream",
     "text": [
      "Counter()\n"
     ]
    }
   ],
   "source": [
    "print(word_counts)"
   ]
  },
  {
   "cell_type": "markdown",
   "metadata": {},
   "source": [
    "**Find top 5 most common words**"
   ]
  },
  {
   "cell_type": "code",
   "execution_count": 9,
   "metadata": {},
   "outputs": [],
   "source": [
    "for word, count in word_counts.most_common(5):\n",
    "    print(word, count)"
   ]
  },
  {
   "cell_type": "markdown",
   "metadata": {},
   "source": [
    "**Find words of length 4 or more that occur at least twice**"
   ]
  },
  {
   "cell_type": "code",
   "execution_count": 10,
   "metadata": {},
   "outputs": [
    {
     "data": {
      "text/plain": [
       "[]"
      ]
     },
     "execution_count": 10,
     "metadata": {},
     "output_type": "execute_result"
    }
   ],
   "source": [
    "commons = [(w,c) for w,c in word_counts.most_common() if len(w) > 3 and c > 1]\n",
    "commons"
   ]
  },
  {
   "cell_type": "markdown",
   "metadata": {},
   "source": [
    "**Find up to 5 words of length 4 or more that occur at least twice**"
   ]
  },
  {
   "cell_type": "code",
   "execution_count": null,
   "metadata": {},
   "outputs": [],
   "source": [
    "commons = [(w,c) for w,c in word_counts.most_common() if len(w) > 3 and c > 1][:5]\n",
    "commons"
   ]
  },
  {
   "cell_type": "markdown",
   "metadata": {},
   "source": [
    "---"
   ]
  },
  {
   "cell_type": "markdown",
   "metadata": {},
   "source": [
    "### <font color=\"brown\">Regular Expressions</font>\n",
    "\n",
    "Tutorials can be found at the following sites\n",
    "\n",
    "1. https://www.w3schools.com/python/python_regex.asp\n",
    "2. https://developers.google.com/edu/python/regular-expressions#basic-patterns\n",
    "3. https://docs.python.org/3/howto/regex.html?highlight=regular%20expressions\n",
    "\n",
    "And the site https://regex101.com/ has a regular expression engine you can use to try things out.\n"
   ]
  },
  {
   "cell_type": "markdown",
   "metadata": {},
   "source": [
    "---"
   ]
  },
  {
   "cell_type": "markdown",
   "metadata": {},
   "source": [
    "#### <font color=\"brown\">Import the re module</font>"
   ]
  },
  {
   "cell_type": "code",
   "execution_count": null,
   "metadata": {},
   "outputs": [],
   "source": [
    "import re"
   ]
  },
  {
   "cell_type": "markdown",
   "metadata": {},
   "source": [
    "---"
   ]
  },
  {
   "cell_type": "markdown",
   "metadata": {},
   "source": [
    "#### <font color=\"brown\">Search for a pattern in a string using re.search function</font>"
   ]
  },
  {
   "cell_type": "code",
   "execution_count": null,
   "metadata": {},
   "outputs": [],
   "source": [
    "res = re.search('a','cat')  # search for pattern 'a' in target 'cat'\n",
    "res"
   ]
  },
  {
   "cell_type": "markdown",
   "metadata": {},
   "source": [
    "**search returns a Match object: span(1,2) is the span from start index to end index (exclusive)<br>\n",
    "of target string \"cat\" where the match is found, and match gives the actual match**"
   ]
  },
  {
   "cell_type": "code",
   "execution_count": null,
   "metadata": {},
   "outputs": [],
   "source": [
    "res = re.search('a','dog')\n",
    "print(res)"
   ]
  },
  {
   "cell_type": "markdown",
   "metadata": {},
   "source": [
    "**If you simply echo res, nothing will be echoed since res is null, see below**"
   ]
  },
  {
   "cell_type": "code",
   "execution_count": null,
   "metadata": {},
   "outputs": [],
   "source": [
    "res"
   ]
  },
  {
   "cell_type": "markdown",
   "metadata": {},
   "source": [
    "**So it's good policy to print the return from search, in case the return was None**"
   ]
  },
  {
   "cell_type": "code",
   "execution_count": null,
   "metadata": {},
   "outputs": [],
   "source": [
    "print ('matched') if re.search('a','dog') else print('not matched')"
   ]
  },
  {
   "cell_type": "markdown",
   "metadata": {},
   "source": [
    "**search returns the first occurrence of a match, in case there are multiple matches**"
   ]
  },
  {
   "cell_type": "code",
   "execution_count": null,
   "metadata": {},
   "outputs": [],
   "source": [
    "res = re.search('ar','barbaric')  \n",
    "print(res)  "
   ]
  },
  {
   "cell_type": "code",
   "execution_count": null,
   "metadata": {},
   "outputs": [],
   "source": [
    "# when searching, because failure is possible, use condition\n",
    "def searchit(pattern,astr): \n",
    "    if re.search(pattern,astr):   # same as if re.search(pattern,astr) != None\n",
    "        return 'Matched'\n",
    "    else:\n",
    "        return 'No match' \n",
    "\n",
    "print(searchit('a','cat'))\n",
    "print(searchit('a','dog'))\n",
    "print(searchit('ar','barbaric'))"
   ]
  },
  {
   "cell_type": "markdown",
   "metadata": {},
   "source": [
    "**<font color=\"red\">Matching literal strings is faster with string method</font>**"
   ]
  },
  {
   "cell_type": "code",
   "execution_count": null,
   "metadata": {},
   "outputs": [],
   "source": [
    "def findit(litstr,target):\n",
    "    if target.find(litstr) == -1:\n",
    "        return 'No match'\n",
    "    else:\n",
    "        return 'Matched'\n",
    "    \n",
    "print(searchit('a','cat'))\n",
    "print(searchit('a','dog'))\n",
    "print(searchit('ar','barbaric'))"
   ]
  },
  {
   "cell_type": "code",
   "execution_count": null,
   "metadata": {},
   "outputs": [],
   "source": [
    "def findit(litstr,target):\n",
    "    res = 'No Match' if target.find(litstr) == -1 else 'Matched'\n",
    "    return res\n",
    "    \n",
    "print(searchit('a','cat'))\n",
    "print(searchit('a','dog'))\n",
    "print(searchit('ar','barbaric'))"
   ]
  },
  {
   "cell_type": "markdown",
   "metadata": {},
   "source": [
    "---"
   ]
  },
  {
   "cell_type": "markdown",
   "metadata": {},
   "source": [
    "#### <font color=\"brown\">Writing regexp patterns with metacharacters</font>"
   ]
  },
  {
   "cell_type": "markdown",
   "metadata": {},
   "source": [
    "**Metacharacter [ ] is used for a class of characters<br>\n",
    "Metacharacter * means 0 or more of preceding character/class<br>\n",
    "Metacharacter + means 1 or more of preceding character/class**"
   ]
  },
  {
   "cell_type": "markdown",
   "metadata": {},
   "source": [
    "**Example 1**<br>\n",
    "Search for any sequence of characters that starts with 'a', ends with 't', and has zero or more 'c's in between"
   ]
  },
  {
   "cell_type": "code",
   "execution_count": null,
   "metadata": {},
   "outputs": [],
   "source": [
    "while True:\n",
    "    astr = input(\"string? ('quit' to stop) \")\n",
    "    if astr == 'quit':\n",
    "        break\n",
    "    res = re.search('ac*t',astr)  # uses metacharacter *\n",
    "    print('match') if res else print('no match')"
   ]
  },
  {
   "cell_type": "markdown",
   "metadata": {},
   "source": [
    "**Example 2**<br>\n",
    "Search for any sequence of characters that starts with 'a', ends with 't', and has AT LEAST one 'c' in between"
   ]
  },
  {
   "cell_type": "code",
   "execution_count": null,
   "metadata": {},
   "outputs": [],
   "source": [
    "while True:\n",
    "    astr = input(\"string? ('quit' to stop) \")\n",
    "    if astr == 'quit':\n",
    "        break\n",
    "    res = re.search('ac+t',astr)  # uses metacharacter +\n",
    "    print('match') if res else print('no match')"
   ]
  },
  {
   "cell_type": "markdown",
   "metadata": {},
   "source": [
    "**Example 3**<br>\n",
    "Search for any sequence that starts with a, ends with t, and has any number of digits (zero included) in between"
   ]
  },
  {
   "cell_type": "code",
   "execution_count": null,
   "metadata": {},
   "outputs": [],
   "source": [
    "while True:\n",
    "    astr = input(\"string? ('quit' to stop) \")\n",
    "    if astr == 'quit':\n",
    "        break\n",
    "    res = re.search('a[0-9]*t',astr)  # uses metacharacters [] and *\n",
    "    print('match') if res else print('no match')"
   ]
  },
  {
   "cell_type": "markdown",
   "metadata": {},
   "source": [
    "**Example 4**<br>\n",
    "Search for any sequence that starts with a, ends with t, and has any number of letters or digits (zero included) in between"
   ]
  },
  {
   "cell_type": "code",
   "execution_count": null,
   "metadata": {},
   "outputs": [],
   "source": [
    "while True:\n",
    "    astr = input(\"string? ('quit' to stop) \")\n",
    "    if astr == 'quit':\n",
    "        break\n",
    "    res = re.search('a[a-zA-Z0-9]*t',astr)  # uses metacharacters [] and *\n",
    "    print('match') if res else print('no match')"
   ]
  },
  {
   "cell_type": "markdown",
   "metadata": {},
   "source": [
    "**Example 5**<br>\n",
    "Search for any sequence that starts with a, ends with t, and has AT LEAST one letter and one digit between, in that order<br>\n",
    "i.e. between a and t, all letters must precede all digits"
   ]
  },
  {
   "cell_type": "code",
   "execution_count": null,
   "metadata": {},
   "outputs": [],
   "source": [
    "while True:\n",
    "    astr = input(\"string? ('quit' to stop) \")\n",
    "    if astr == 'quit':\n",
    "        break\n",
    "    res = re.search('a[a-zA-Z]+[0-9]+t',astr)  # uses metacharacters [] and +\n",
    "    print('match') if res else print('no match')"
   ]
  },
  {
   "cell_type": "markdown",
   "metadata": {},
   "source": [
    "---"
   ]
  },
  {
   "cell_type": "markdown",
   "metadata": {},
   "source": [
    "**Metacharacter . matches any character**"
   ]
  },
  {
   "cell_type": "markdown",
   "metadata": {},
   "source": [
    "**Example**<br>\n",
    "Search for any sequence that starts with a, ends with t, and has any character any number of times (including zero) between"
   ]
  },
  {
   "cell_type": "code",
   "execution_count": null,
   "metadata": {},
   "outputs": [],
   "source": [
    "while True:\n",
    "    astr = input(\"string? ('quit' to stop) \")\n",
    "    if astr == 'quit':\n",
    "        break\n",
    "    res = re.search('a.*t',astr)  # uses metacharacters . and *\n",
    "    print('match') if res else print('no match')"
   ]
  },
  {
   "cell_type": "markdown",
   "metadata": {},
   "source": [
    "---"
   ]
  },
  {
   "cell_type": "markdown",
   "metadata": {},
   "source": [
    "**Metacharacter ? matches one or zero occurrence of preceding character**"
   ]
  },
  {
   "cell_type": "markdown",
   "metadata": {},
   "source": [
    "**Example**<br>\n",
    "Search for the sequence 'act' or 'at' in any string"
   ]
  },
  {
   "cell_type": "code",
   "execution_count": null,
   "metadata": {},
   "outputs": [],
   "source": [
    "res = re.search('ac?t','at')\n",
    "print(res)\n",
    "res = re.search('ac?t','act')\n",
    "print(res)\n",
    "res = re.search('ac?t','tractor')\n",
    "print(res)\n",
    "res = re.search('ac?t','art')\n",
    "print(res)"
   ]
  },
  {
   "cell_type": "markdown",
   "metadata": {},
   "source": [
    "---"
   ]
  },
  {
   "cell_type": "markdown",
   "metadata": {},
   "source": [
    "**Metacharacter ^ matches start of target string when used outside of a [ ] class<br>\n",
    "Metacharacter $ matches end of target string**"
   ]
  },
  {
   "cell_type": "markdown",
   "metadata": {},
   "source": [
    "**Example 1**<br>\n",
    "Match all target strings that start with p"
   ]
  },
  {
   "cell_type": "code",
   "execution_count": null,
   "metadata": {},
   "outputs": [],
   "source": [
    "while True:\n",
    "    astr = input(\"string? ('quit' to stop) \")\n",
    "    if astr == 'quit':\n",
    "        break\n",
    "    res = re.search('^p',astr)  # uses metacharacter ^\n",
    "    print('match') if res else print('no match')"
   ]
  },
  {
   "cell_type": "markdown",
   "metadata": {},
   "source": [
    "**Example 2**<br>\n",
    "Match all target strings that end with p"
   ]
  },
  {
   "cell_type": "code",
   "execution_count": null,
   "metadata": {},
   "outputs": [],
   "source": [
    "while True:\n",
    "    astr = input(\"string? ('quit' to stop) \")\n",
    "    if astr == 'quit':\n",
    "        break\n",
    "    res = re.search('p$',astr)  # uses metacharacter $\n",
    "    print('match') if res else print('no match')"
   ]
  },
  {
   "cell_type": "markdown",
   "metadata": {},
   "source": [
    "**Example 3**<br>\n",
    "Match all target strings that start with ar, end with t, and have at least one lowercase letter between"
   ]
  },
  {
   "cell_type": "code",
   "execution_count": null,
   "metadata": {},
   "outputs": [],
   "source": [
    "while True:\n",
    "    astr = input(\"string? ('quit' to stop) \")\n",
    "    if astr == 'quit':\n",
    "        break\n",
    "    res = re.search('^ar[a-z]+t$',astr)  # uses metacharacters ^, [ ], +, and $\n",
    "    print('match') if res else print('no match')"
   ]
  }
 ],
 "metadata": {
  "kernelspec": {
   "display_name": "Python 3 (ipykernel)",
   "language": "python",
   "name": "python3"
  },
  "language_info": {
   "codemirror_mode": {
    "name": "ipython",
    "version": 3
   },
   "file_extension": ".py",
   "mimetype": "text/x-python",
   "name": "python",
   "nbconvert_exporter": "python",
   "pygments_lexer": "ipython3",
   "version": "3.10.7"
  }
 },
 "nbformat": 4,
 "nbformat_minor": 4
}
