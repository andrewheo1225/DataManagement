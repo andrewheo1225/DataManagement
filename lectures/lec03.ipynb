{
 "cells": [
  {
   "cell_type": "markdown",
   "metadata": {},
   "source": [
    "### <font color=\"brown\">Functions</font>"
   ]
  },
  {
   "cell_type": "markdown",
   "metadata": {},
   "source": [
    "#### <font color=\"brown\">Default parameters</font>"
   ]
  },
  {
   "cell_type": "markdown",
   "metadata": {},
   "source": [
    "#### Party expense exercise\n",
    "\n",
    "Suppose that you are responsible for buying pizza and soda for your employer's annual company party. You must buy entire pizza pies and cases of soda (boxes of soda cans). You cannot buy individual slices of pizza or cans of soda, nor can you buy fractional numbers of pizza pies or soda cases.\n",
    "\n",
    "Write a function to compute the total cost of the pizza and soda you will need to buy. Do not buy more than you need to in order to supply each partygoer with the desired number of pizza slices and soda cans.\n",
    "\n",
    "Your function should take the following parameters:\n",
    "\n",
    "1. the number of people attending the party (default 5)\n",
    "2. the number of slices of pizza each person should be able to eat (default 2)\n",
    "3. the number of cans of soda each person should be able to drink (default 1)\n",
    "4. the cost of a pizza pie (default \\$10)\n",
    "5. the number of slices in a pizza pie (default 8)\n",
    "6. the cost of a case of soda (default \\$1.50)\n",
    "7. the number of cans in a case of soda (default 12)"
   ]
  },
  {
   "cell_type": "markdown",
   "metadata": {},
   "source": [
    "**Using default-valued parameters**"
   ]
  },
  {
   "cell_type": "code",
   "execution_count": 3,
   "metadata": {},
   "outputs": [],
   "source": [
    "import math\n",
    "\n",
    "def party_cost(n=5,p=2,s=1,pc=10,ps=8,sc=1.5,cc=12):\n",
    "    pizza_cost = math.ceil((n*p)/ps) * pc\n",
    "    soda_cost = math.ceil((n*s)/cc) * sc\n",
    "    return pizza_cost + soda_cost"
   ]
  },
  {
   "cell_type": "code",
   "execution_count": 4,
   "metadata": {},
   "outputs": [
    {
     "data": {
      "text/plain": [
       "21.5"
      ]
     },
     "execution_count": 4,
     "metadata": {},
     "output_type": "execute_result"
    }
   ],
   "source": [
    "party_cost()"
   ]
  },
  {
   "cell_type": "code",
   "execution_count": 2,
   "metadata": {},
   "outputs": [
    {
     "ename": "NameError",
     "evalue": "name 'party_cost' is not defined",
     "output_type": "error",
     "traceback": [
      "\u001b[0;31m---------------------------------------------------------------------------\u001b[0m",
      "\u001b[0;31mNameError\u001b[0m                                 Traceback (most recent call last)",
      "Cell \u001b[0;32mIn [2], line 1\u001b[0m\n\u001b[0;32m----> 1\u001b[0m \u001b[43mparty_cost\u001b[49m(\u001b[38;5;241m5\u001b[39m)\n",
      "\u001b[0;31mNameError\u001b[0m: name 'party_cost' is not defined"
     ]
    }
   ],
   "source": [
    "party_cost(5)"
   ]
  },
  {
   "cell_type": "markdown",
   "metadata": {},
   "source": [
    "**Mixed default-valued and other parameters**"
   ]
  },
  {
   "cell_type": "code",
   "execution_count": 4,
   "metadata": {},
   "outputs": [
    {
     "name": "stdout",
     "output_type": "stream",
     "text": [
      "25\n"
     ]
    }
   ],
   "source": [
    "def func(x,y=5):\n",
    "    return x*y\n",
    "\n",
    "print(func(5))"
   ]
  },
  {
   "cell_type": "code",
   "execution_count": 9,
   "metadata": {},
   "outputs": [
    {
     "name": "stdout",
     "output_type": "stream",
     "text": [
      "15\n"
     ]
    }
   ],
   "source": [
    "def func(x,y=5):\n",
    "    return x*y\n",
    "\n",
    "print(func(3))"
   ]
  },
  {
   "cell_type": "code",
   "execution_count": 8,
   "metadata": {},
   "outputs": [
    {
     "ename": "SyntaxError",
     "evalue": "non-default argument follows default argument (1093863039.py, line 1)",
     "output_type": "error",
     "traceback": [
      "\u001b[0;36m  Cell \u001b[0;32mIn [8], line 1\u001b[0;36m\u001b[0m\n\u001b[0;31m    def func(x=5,y):\u001b[0m\n\u001b[0m                 ^\u001b[0m\n\u001b[0;31mSyntaxError\u001b[0m\u001b[0;31m:\u001b[0m non-default argument follows default argument\n"
     ]
    }
   ],
   "source": [
    "def func(x=5,y):\n",
    "    return x*y\n",
    "\n",
    "print(func(x,2))"
   ]
  },
  {
   "cell_type": "markdown",
   "metadata": {},
   "source": [
    "#### <font color=\"brown\">Returning multiple values from a function</font>"
   ]
  },
  {
   "cell_type": "code",
   "execution_count": 9,
   "metadata": {},
   "outputs": [],
   "source": [
    "def party_cost_new(n=5,p=2,s=1,pc=10,ps=8,sc=1.5,cc=12):\n",
    "    pies = math.ceil((n*p)/ps)\n",
    "    pizza_cost =  pies * pc\n",
    "    soda_cases = math.ceil((n*s)/cc)\n",
    "    soda_cost =  soda_cases * sc\n",
    "    return pies, soda_cases, pizza_cost + soda_cost"
   ]
  },
  {
   "cell_type": "code",
   "execution_count": 10,
   "metadata": {},
   "outputs": [
    {
     "name": "stdout",
     "output_type": "stream",
     "text": [
      "pies=2, cases=1, cost=21.5\n"
     ]
    }
   ],
   "source": [
    "pies, cases, cost = party_cost_new()\n",
    "print(f'pies={pies}, cases={cases}, cost={cost}')"
   ]
  },
  {
   "cell_type": "code",
   "execution_count": 11,
   "metadata": {},
   "outputs": [
    {
     "data": {
      "text/plain": [
       "(2, 1, 21.5)"
      ]
     },
     "execution_count": 11,
     "metadata": {},
     "output_type": "execute_result"
    }
   ],
   "source": [
    "party_cost_new()"
   ]
  },
  {
   "cell_type": "markdown",
   "metadata": {},
   "source": [
    "---"
   ]
  },
  {
   "cell_type": "markdown",
   "metadata": {},
   "source": [
    "### <font color=\"brown\">Decisions</font>"
   ]
  },
  {
   "cell_type": "code",
   "execution_count": 14,
   "metadata": {},
   "outputs": [
    {
     "name": "stdout",
     "output_type": "stream",
     "text": [
      "outside the if\n"
     ]
    }
   ],
   "source": [
    "x=3\n",
    "y=2\n",
    "if x < y:\n",
    "    print ('x < y')\n",
    "print('outside the if')"
   ]
  },
  {
   "cell_type": "code",
   "execution_count": 15,
   "metadata": {},
   "outputs": [
    {
     "name": "stdout",
     "output_type": "stream",
     "text": [
      "x < y\n",
      "outside the if\n"
     ]
    }
   ],
   "source": [
    "x=2\n",
    "y=3\n",
    "if x < y:\n",
    "    print ('x < y')\n",
    "print('outside the if')"
   ]
  },
  {
   "cell_type": "code",
   "execution_count": 23,
   "metadata": {},
   "outputs": [
    {
     "name": "stdout",
     "output_type": "stream",
     "text": [
      "x > y\n"
     ]
    }
   ],
   "source": [
    "if x > y:\n",
    "    print ('x > y')\n",
    "else:\n",
    "    print ('x not > y')"
   ]
  },
  {
   "cell_type": "code",
   "execution_count": 24,
   "metadata": {},
   "outputs": [
    {
     "name": "stdout",
     "output_type": "stream",
     "text": [
      "x not < y, and y < z\n"
     ]
    }
   ],
   "source": [
    "z = 10\n",
    "if x < y:\n",
    "    print ('x < y')\n",
    "elif y < z:\n",
    "    print ('x not < y, and y < z')\n",
    "else:\n",
    "    print ('x not < y, and y not < z')  "
   ]
  },
  {
   "cell_type": "code",
   "execution_count": 25,
   "metadata": {},
   "outputs": [
    {
     "name": "stdout",
     "output_type": "stream",
     "text": [
      "x not < y, and y < z\n"
     ]
    }
   ],
   "source": [
    "z = 10\n",
    "if x < y:\n",
    "    print ('x < y')\n",
    "else:\n",
    "    if y < z:\n",
    "        print ('x not < y, and y < z')\n",
    "    else:\n",
    "        print ('x not < y, and y not < z')  "
   ]
  },
  {
   "cell_type": "code",
   "execution_count": 26,
   "metadata": {},
   "outputs": [],
   "source": [
    "# arrange 3 numbers in ascending order\n",
    "def sort3(x,y,z):\n",
    "    if x < y:\n",
    "        if (y < z):\n",
    "            return x,y,z\n",
    "        elif x < z:\n",
    "            return x,z,y\n",
    "        else:\n",
    "            return z,x,y\n",
    "    else:\n",
    "        if x < z:\n",
    "            return y,x,z\n",
    "        elif y < z:\n",
    "            return y,z,x\n",
    "        else:\n",
    "            return z,y,x"
   ]
  },
  {
   "cell_type": "code",
   "execution_count": 27,
   "metadata": {},
   "outputs": [
    {
     "name": "stdout",
     "output_type": "stream",
     "text": [
      "(1, 2, 3)\n",
      "(1, 2, 3)\n",
      "(1, 2, 3)\n"
     ]
    }
   ],
   "source": [
    "print(sort3(1,2,3))\n",
    "print(sort3(1,3,2))\n",
    "print(sort3(2,1,3))"
   ]
  },
  {
   "cell_type": "code",
   "execution_count": 28,
   "metadata": {},
   "outputs": [],
   "source": [
    "def grade(score):\n",
    "    if score >= 90:\n",
    "        grade = 'A'\n",
    "    elif score >= 80:\n",
    "        grade = 'B'\n",
    "    elif score >= 70:\n",
    "        grade = 'C'\n",
    "    elif score >= 60:\n",
    "        grade = 'D'\n",
    "    else:\n",
    "        grade = 'F'\n",
    "    \n",
    "    return grade"
   ]
  },
  {
   "cell_type": "code",
   "execution_count": 29,
   "metadata": {},
   "outputs": [
    {
     "name": "stdout",
     "output_type": "stream",
     "text": [
      "D\n",
      "A\n",
      "F\n"
     ]
    }
   ],
   "source": [
    "print(grade(62.5))\n",
    "print(grade(90))\n",
    "print(grade(48))"
   ]
  },
  {
   "cell_type": "code",
   "execution_count": 30,
   "metadata": {},
   "outputs": [],
   "source": [
    "# simpler, using return to bail asap\n",
    "def grade(score):\n",
    "    if score >= 90:\n",
    "        return 'A'\n",
    "    if score >= 80:\n",
    "        return 'B'\n",
    "    if score >= 70:\n",
    "        return 'C'\n",
    "    if score >= 60:\n",
    "        return'D'\n",
    "    return 'F'"
   ]
  },
  {
   "cell_type": "code",
   "execution_count": 31,
   "metadata": {},
   "outputs": [
    {
     "name": "stdout",
     "output_type": "stream",
     "text": [
      "D\n",
      "A\n",
      "F\n"
     ]
    }
   ],
   "source": [
    "print(grade(62.5))\n",
    "print(grade(90))\n",
    "print(grade(48))"
   ]
  },
  {
   "cell_type": "code",
   "execution_count": 43,
   "metadata": {},
   "outputs": [],
   "source": [
    "def convert(temp, dir=\"ctof\"):\n",
    "    if dir == \"ctof\":\n",
    "        res = temp*9/5 + 32\n",
    "    else:\n",
    "        res = (temp-32)*5/9\n",
    "    return res"
   ]
  },
  {
   "cell_type": "code",
   "execution_count": 44,
   "metadata": {},
   "outputs": [
    {
     "name": "stdout",
     "output_type": "stream",
     "text": [
      "72.14\n",
      "6.111111111111111\n"
     ]
    }
   ],
   "source": [
    "print(convert(22.3))\n",
    "print(convert(43,\"ftoc\"))"
   ]
  },
  {
   "cell_type": "code",
   "execution_count": 45,
   "metadata": {},
   "outputs": [
    {
     "name": "stdout",
     "output_type": "stream",
     "text": [
      "6.11\n",
      "6.11\n"
     ]
    }
   ],
   "source": [
    "# a little formatting\n",
    "cval = convert(43,\"ftoc\")\n",
    "print('{:.2f}'.format(cval))\n",
    "print(f'{cval:.2f}')"
   ]
  },
  {
   "cell_type": "markdown",
   "metadata": {},
   "source": [
    "---"
   ]
  },
  {
   "cell_type": "markdown",
   "metadata": {},
   "source": [
    "### <font color=\"brown\">Writing and executing standalone (outside Jupiter notebook) Python programs</font>\n",
    "\n",
    "**Writing a Python program in a .py file**\n",
    "\n",
    "1. Launch the \"Text File\" process in Jupyter lab - this will open up a text editor tab\n",
    "2. Rename the \"untitled.txt\" file with an appropriate name and .py extension instead of .txt\n",
    "   - In lecture we renamed the file as convert.py\n",
    "3. Write your Python program in the editor \n",
    "   - In lecture we copied code for the convert function definition, plus  calling it and printing the result, from the cells above\n",
    "4. Save the file\n",
    "   \n",
    "\n",
    "**Executing a Python program stored in a .py file**\n",
    "\n",
    "1. Launch the \"Terminal\" process\n",
    "2. Change directory (if needed) to the one that has your program (e.g. convert.py)\n",
    "3. Type the following:\n",
    "<pre>\n",
    "     python convert.py\n",
    "</pre>    \n",
    "(In other words, **python** followed by the name of the executable Python program file)\n",
    "\n",
    "\n"
   ]
  },
  {
   "cell_type": "markdown",
   "metadata": {},
   "source": [
    "---"
   ]
  },
  {
   "cell_type": "markdown",
   "metadata": {},
   "source": [
    "### <font color=\"brown\">Reading input from console</font>"
   ]
  },
  {
   "cell_type": "markdown",
   "metadata": {},
   "source": [
    "**Since all input is text, you may need to convert to numeric if needed**"
   ]
  },
  {
   "cell_type": "code",
   "execution_count": 1,
   "metadata": {},
   "outputs": [],
   "source": [
    "def tempconvert():\n",
    "    dir = input(\"Enter 'f2c' or 'c2f': \")\n",
    "    if dir == 'f2c':\n",
    "        f = float(input('enter F: '))  # convert text (string) input to numeric float\n",
    "        c = (f - 32) / 9 * 5\n",
    "        return c\n",
    "    else:\n",
    "        c = float(input('enter C: '))\n",
    "        f = c * 9 / 5 + 32\n",
    "        return f"
   ]
  },
  {
   "cell_type": "code",
   "execution_count": 2,
   "metadata": {},
   "outputs": [
    {
     "name": "stdout",
     "output_type": "stream",
     "text": [
      "Enter 'f2c' or 'c2f': f2c\n",
      "enter F: 100\n"
     ]
    },
    {
     "data": {
      "text/plain": [
       "37.77777777777778"
      ]
     },
     "execution_count": 2,
     "metadata": {},
     "output_type": "execute_result"
    }
   ],
   "source": [
    "tempconvert()"
   ]
  },
  {
   "cell_type": "code",
   "execution_count": 8,
   "metadata": {},
   "outputs": [
    {
     "name": "stdin",
     "output_type": "stream",
     "text": [
      "Enter 'f2c' or 'c2f':  f2c\n",
      "enter F:  12\n"
     ]
    },
    {
     "data": {
      "text/plain": [
       "-11.11111111111111"
      ]
     },
     "execution_count": 8,
     "metadata": {},
     "output_type": "execute_result"
    }
   ],
   "source": [
    "tempconvert()"
   ]
  },
  {
   "cell_type": "markdown",
   "metadata": {},
   "source": [
    "---"
   ]
  },
  {
   "cell_type": "markdown",
   "metadata": {},
   "source": [
    "### <font color=\"brown\">Using try-except to trap errors</font>"
   ]
  },
  {
   "cell_type": "code",
   "execution_count": 10,
   "metadata": {},
   "outputs": [],
   "source": [
    "def tempconvert():\n",
    "    dir = input(\"Enter 'f2c' or 'c2f': \")\n",
    "    \n",
    "    if dir == 'f2c':\n",
    "        f = float(input('enter F: '))\n",
    "        c = (f - 32) / 9 * 5\n",
    "        return c\n",
    "    else:\n",
    "        c = float(input('enter C: '))\n",
    "        f = c * 9 / 5 + 32\n",
    "        return f\n",
    "    "
   ]
  },
  {
   "cell_type": "markdown",
   "metadata": {},
   "source": [
    "**What if user enters a non-numeric value?**"
   ]
  },
  {
   "cell_type": "code",
   "execution_count": 11,
   "metadata": {},
   "outputs": [
    {
     "name": "stdin",
     "output_type": "stream",
     "text": [
      "Enter 'f2c' or 'c2f':  f2c\n",
      "enter F:  abc\n"
     ]
    },
    {
     "ename": "ValueError",
     "evalue": "could not convert string to float: 'abc'",
     "output_type": "error",
     "traceback": [
      "\u001b[0;31m---------------------------------------------------------------------------\u001b[0m",
      "\u001b[0;31mValueError\u001b[0m                                Traceback (most recent call last)",
      "\u001b[0;32m<ipython-input-11-cfa7c11c984c>\u001b[0m in \u001b[0;36m<module>\u001b[0;34m\u001b[0m\n\u001b[0;32m----> 1\u001b[0;31m \u001b[0mtempconvert\u001b[0m\u001b[0;34m(\u001b[0m\u001b[0;34m)\u001b[0m\u001b[0;34m\u001b[0m\u001b[0;34m\u001b[0m\u001b[0m\n\u001b[0m",
      "\u001b[0;32m<ipython-input-10-fc09d2259288>\u001b[0m in \u001b[0;36mtempconvert\u001b[0;34m()\u001b[0m\n\u001b[1;32m      3\u001b[0m \u001b[0;34m\u001b[0m\u001b[0m\n\u001b[1;32m      4\u001b[0m     \u001b[0;32mif\u001b[0m \u001b[0mdir\u001b[0m \u001b[0;34m==\u001b[0m \u001b[0;34m'f2c'\u001b[0m\u001b[0;34m:\u001b[0m\u001b[0;34m\u001b[0m\u001b[0;34m\u001b[0m\u001b[0m\n\u001b[0;32m----> 5\u001b[0;31m         \u001b[0mf\u001b[0m \u001b[0;34m=\u001b[0m \u001b[0mfloat\u001b[0m\u001b[0;34m(\u001b[0m\u001b[0minput\u001b[0m\u001b[0;34m(\u001b[0m\u001b[0;34m'enter F: '\u001b[0m\u001b[0;34m)\u001b[0m\u001b[0;34m)\u001b[0m\u001b[0;34m\u001b[0m\u001b[0;34m\u001b[0m\u001b[0m\n\u001b[0m\u001b[1;32m      6\u001b[0m         \u001b[0mc\u001b[0m \u001b[0;34m=\u001b[0m \u001b[0;34m(\u001b[0m\u001b[0mf\u001b[0m \u001b[0;34m-\u001b[0m \u001b[0;36m32\u001b[0m\u001b[0;34m)\u001b[0m \u001b[0;34m/\u001b[0m \u001b[0;36m9\u001b[0m \u001b[0;34m*\u001b[0m \u001b[0;36m5\u001b[0m\u001b[0;34m\u001b[0m\u001b[0;34m\u001b[0m\u001b[0m\n\u001b[1;32m      7\u001b[0m         \u001b[0;32mreturn\u001b[0m \u001b[0mc\u001b[0m\u001b[0;34m\u001b[0m\u001b[0;34m\u001b[0m\u001b[0m\n",
      "\u001b[0;31mValueError\u001b[0m: could not convert string to float: 'abc'"
     ]
    }
   ],
   "source": [
    "tempconvert()"
   ]
  },
  {
   "cell_type": "markdown",
   "metadata": {},
   "source": [
    "**Augment the function code with try-except to catch this possibility**"
   ]
  },
  {
   "cell_type": "code",
   "execution_count": 14,
   "metadata": {},
   "outputs": [],
   "source": [
    "def tempconvert():\n",
    "    dir = input(\"Enter 'f2c' or 'c2f': \")\n",
    "    try:\n",
    "        if dir == 'f2c':\n",
    "            f = float(input('enter F: '))\n",
    "            c = (f - 32) / 9 * 5\n",
    "            return c\n",
    "        else:\n",
    "            c = float(input('enter C: '))\n",
    "            f = c * 9 / 5 + 32\n",
    "            return f\n",
    "    except ValueError as err:\n",
    "        print(err)"
   ]
  },
  {
   "cell_type": "code",
   "execution_count": 15,
   "metadata": {},
   "outputs": [
    {
     "name": "stdin",
     "output_type": "stream",
     "text": [
      "Enter 'f2c' or 'c2f':  f2c\n",
      "enter F:  abc\n"
     ]
    },
    {
     "name": "stdout",
     "output_type": "stream",
     "text": [
      "could not convert string to float: 'abc'\n"
     ]
    }
   ],
   "source": [
    "tempconvert()"
   ]
  },
  {
   "cell_type": "markdown",
   "metadata": {},
   "source": [
    "**What changed above is we trapped the error in our program, rather than the error crashing the program.**"
   ]
  },
  {
   "cell_type": "markdown",
   "metadata": {},
   "source": [
    "**But we can do better than simply echoing the system error message**"
   ]
  },
  {
   "cell_type": "code",
   "execution_count": 18,
   "metadata": {},
   "outputs": [],
   "source": [
    "# replace with new message that is clearer and gives more info to the user\n",
    "def tempconvert():\n",
    "    dir = input(\"Enter 'f2c' or 'c2f': \")\n",
    "    try:\n",
    "        if dir == 'f2c':\n",
    "            inp = input('enter F: ')\n",
    "            f = float(inp)\n",
    "            c = (f - 32) / 9 * 5\n",
    "            return c\n",
    "        else:\n",
    "            inp = input('enter C: ')\n",
    "            c = float(inp)\n",
    "            f = c * 9 / 5 + 32\n",
    "            return f\n",
    "    except ValueError:\n",
    "        print(f'Input must be real number, you entered \"{inp}\"')"
   ]
  },
  {
   "cell_type": "code",
   "execution_count": 19,
   "metadata": {},
   "outputs": [
    {
     "name": "stdin",
     "output_type": "stream",
     "text": [
      "Enter 'f2c' or 'c2f':  f2c\n",
      "enter F:  abc\n"
     ]
    },
    {
     "name": "stdout",
     "output_type": "stream",
     "text": [
      "Input must be real number, you entered \"abc\"\n"
     ]
    }
   ],
   "source": [
    "tempconvert()"
   ]
  },
  {
   "cell_type": "markdown",
   "metadata": {},
   "source": [
    "**What if user enters something other than f2c or c2f for the conversion option?**"
   ]
  },
  {
   "cell_type": "code",
   "execution_count": 21,
   "metadata": {},
   "outputs": [
    {
     "name": "stdin",
     "output_type": "stream",
     "text": [
      "Enter 'f2c' or 'c2f':  12\n",
      "enter C:  12\n"
     ]
    },
    {
     "data": {
      "text/plain": [
       "53.6"
      ]
     },
     "execution_count": 21,
     "metadata": {},
     "output_type": "execute_result"
    }
   ],
   "source": [
    "tempconvert()"
   ]
  },
  {
   "cell_type": "markdown",
   "metadata": {},
   "source": [
    "**The user mistakenly typed a value instead of f2c or c2f, but the program saw the string \"12\" as NOT f2c, and simply defaulted to c2f. This will likely confuse the user, so we should constraint our code to accept only the explicit inputs of f2c or c2f for the options.**"
   ]
  },
  {
   "cell_type": "code",
   "execution_count": 23,
   "metadata": {},
   "outputs": [],
   "source": [
    "# only allow explicit inputs of 'f2c' and 'c2f' for the options\n",
    "def tempconvert():\n",
    "    dir = input(\"Enter 'f2c' or 'c2f': \")\n",
    "    try:\n",
    "        if dir == 'f2c':\n",
    "            inp = input('enter F: ')\n",
    "            f = float(inp)\n",
    "            c = (f - 32) / 9 * 5\n",
    "            return c\n",
    "        elif dir == 'c2f':\n",
    "            inp = input('enter C: ')\n",
    "            c = float(inp)\n",
    "            f = c * 9 / 5 + 32\n",
    "            return f\n",
    "        else:\n",
    "            print(f'You must enter f2c or c2f, you entered {dir}')\n",
    "    except ValueError:\n",
    "        print(f'Input must be real number, you entered {inp}')"
   ]
  },
  {
   "cell_type": "code",
   "execution_count": 24,
   "metadata": {},
   "outputs": [
    {
     "name": "stdin",
     "output_type": "stream",
     "text": [
      "Enter 'f2c' or 'c2f':  12\n"
     ]
    },
    {
     "name": "stdout",
     "output_type": "stream",
     "text": [
      "You must enter f2c or c2f, you entered 12\n"
     ]
    }
   ],
   "source": [
    "tempconvert()"
   ]
  },
  {
   "cell_type": "markdown",
   "metadata": {},
   "source": [
    "---"
   ]
  },
  {
   "cell_type": "markdown",
   "metadata": {},
   "source": [
    "**Beware of real number being entered when an integer is expected**"
   ]
  },
  {
   "cell_type": "code",
   "execution_count": 1,
   "metadata": {},
   "outputs": [],
   "source": [
    "def stuff():\n",
    "    try:\n",
    "        val = int(input('Enter an integer: '))\n",
    "    except ValueError as err:\n",
    "        print(err)"
   ]
  },
  {
   "cell_type": "code",
   "execution_count": 2,
   "metadata": {},
   "outputs": [
    {
     "name": "stdin",
     "output_type": "stream",
     "text": [
      "Enter an integer:  12.5\n"
     ]
    },
    {
     "name": "stdout",
     "output_type": "stream",
     "text": [
      "invalid literal for int() with base 10: '12.5'\n"
     ]
    }
   ],
   "source": [
    "stuff()"
   ]
  }
 ],
 "metadata": {
  "kernelspec": {
   "display_name": "Python 3 (ipykernel)",
   "language": "python",
   "name": "python3"
  },
  "language_info": {
   "codemirror_mode": {
    "name": "ipython",
    "version": 3
   },
   "file_extension": ".py",
   "mimetype": "text/x-python",
   "name": "python",
   "nbconvert_exporter": "python",
   "pygments_lexer": "ipython3",
   "version": "3.10.7"
  }
 },
 "nbformat": 4,
 "nbformat_minor": 4
}
