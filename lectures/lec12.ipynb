{
 "cells": [
  {
   "cell_type": "markdown",
   "metadata": {},
   "source": [
    "### <font color=\"brown\">Working with CSV Datasets</font>"
   ]
  },
  {
   "cell_type": "code",
   "execution_count": null,
   "metadata": {},
   "outputs": [],
   "source": [
    "import csv"
   ]
  },
  {
   "cell_type": "markdown",
   "metadata": {},
   "source": [
    "#### Example 3: Processing auto-mpg CSV file Using DictReader"
   ]
  },
  {
   "cell_type": "code",
   "execution_count": null,
   "metadata": {},
   "outputs": [],
   "source": [
    "# using DictReader on csv\n",
    "reader = csv.DictReader(open('auto_mpg_original.csv'))\n",
    "for index,row in enumerate(reader):\n",
    "    print(row)\n",
    "    if index > 3:\n",
    "        break"
   ]
  },
  {
   "cell_type": "markdown",
   "metadata": {},
   "source": [
    "**Print header column names, and all lines that have an NA for any of the fields**"
   ]
  },
  {
   "cell_type": "code",
   "execution_count": null,
   "metadata": {},
   "outputs": [],
   "source": [
    "# using fieldnames and values methods\n",
    "reader = csv.DictReader(open('auto_mpg_original.csv'))\n",
    "print(reader.fieldnames)\n",
    "print(','.join(reader.fieldnames))\n",
    "for row in reader:\n",
    "    values = list(row.values())  # need to cast row.values() to list\n",
    "    if 'NA' in values:\n",
    "        values[-1] = '\"' + values[-1] + '\"'\n",
    "        print(','.join(values))"
   ]
  },
  {
   "cell_type": "markdown",
   "metadata": {},
   "source": [
    "**Write out a cleaned up version into a CSV file**"
   ]
  },
  {
   "cell_type": "code",
   "execution_count": null,
   "metadata": {},
   "outputs": [],
   "source": [
    "reader = csv.DictReader(open('auto_mpg_original.csv'))  # input, has a bunch of NAs for values\n",
    "with open('auto_mpg.csv','w') as csvfile:               # output, delete lines with NA for any value\n",
    "    csvfile.write(','.join(reader.fieldnames)+'\\n')     # header line with field names    \n",
    "    for row in reader:\n",
    "        if 'NA' in row.values():\n",
    "            continue\n",
    "        values = list(row.values())\n",
    "        csvfile.write(','.join(values)+'\\n')\n"
   ]
  },
  {
   "cell_type": "markdown",
   "metadata": {},
   "source": [
    "**Alternatively, you can use a CSV DictWriter writer to write out**"
   ]
  },
  {
   "cell_type": "code",
   "execution_count": null,
   "metadata": {},
   "outputs": [],
   "source": [
    "with open('auto_mpg_original.csv') as csvfile: \n",
    "    reader = csv.DictReader(csvfile)\n",
    "    \n",
    "    with open('auto_mpg.csv','w',newline='') as csvout:\n",
    "        # fieldnames is a required parameter for DictWriter\n",
    "        writer = csv.DictWriter(csvout,fieldnames=reader.fieldnames, delimiter='\\t')  \n",
    "        writer.writeheader()   \n",
    "        for row in reader:\n",
    "            if 'NA' in row.values():\n",
    "                continue\n",
    "            writer.writerow(row)  "
   ]
  },
  {
   "cell_type": "markdown",
   "metadata": {},
   "source": [
    "---"
   ]
  },
  {
   "cell_type": "markdown",
   "metadata": {},
   "source": [
    "### <font color=\"brown\">Working with JSON (JavaScript Object Notation) Datasets</font>"
   ]
  },
  {
   "cell_type": "code",
   "execution_count": null,
   "metadata": {},
   "outputs": [],
   "source": [
    "import json"
   ]
  },
  {
   "cell_type": "markdown",
   "metadata": {},
   "source": [
    "---"
   ]
  },
  {
   "cell_type": "markdown",
   "metadata": {},
   "source": [
    "#### <font color=\"brown\">Loading a JSON-formatted string into a JSON object</font>"
   ]
  },
  {
   "cell_type": "code",
   "execution_count": null,
   "metadata": {},
   "outputs": [],
   "source": [
    "json1 = '{\"hill center\":\"Busch\", \"AB\":\"College Ave\"}'   # a string containing dictionary formatted data\n",
    "# load this into Python\n",
    "dict1 = json.loads(json1)\n",
    "print(dict1)\n",
    "print(dict1.keys())\n",
    "print(dict1.values())"
   ]
  },
  {
   "cell_type": "code",
   "execution_count": null,
   "metadata": {},
   "outputs": [],
   "source": [
    "json1 = {\"hill center\":\"Busch\", \"AB\":\"College Ave\"}   \n",
    "# load this into Python\n",
    "dict1 = json.loads(json1)\n",
    "print(dict1)"
   ]
  },
  {
   "cell_type": "markdown",
   "metadata": {},
   "source": [
    "**Above doesn't work - the input must be a string, so need quotes around the whole thing**"
   ]
  },
  {
   "cell_type": "code",
   "execution_count": null,
   "metadata": {},
   "outputs": [],
   "source": [
    "json1 = '{2:\"Busch\", 1:\"College Ave\"}'  \n",
    "# load this into Python\n",
    "dict1 = json.loads(json1)\n",
    "print(dict1)"
   ]
  },
  {
   "cell_type": "markdown",
   "metadata": {},
   "source": [
    "**Keys are required to be strings, so the numbers 2 and 1 as keys are rejected**"
   ]
  },
  {
   "cell_type": "markdown",
   "metadata": {},
   "source": [
    "**But values are not required to be strings**"
   ]
  },
  {
   "cell_type": "code",
   "execution_count": null,
   "metadata": {},
   "outputs": [],
   "source": [
    "json1 = '{\"John\":12, \"Jane\":25}'   # but values need not be strings\n",
    "# load this into Python\n",
    "dict1 = json.loads(json1)\n",
    "print(dict1)"
   ]
  },
  {
   "cell_type": "code",
   "execution_count": null,
   "metadata": {},
   "outputs": [],
   "source": [
    "x =  '{ \"name\":\"John\", \"age\":30, \"city\":\"New York\"}'\n",
    "y = json.loads(x)\n",
    "print(y)\n",
    "print(y[\"age\"])"
   ]
  },
  {
   "cell_type": "markdown",
   "metadata": {},
   "source": [
    "**Key strings are required to be double-quoted**"
   ]
  },
  {
   "cell_type": "code",
   "execution_count": null,
   "metadata": {},
   "outputs": [],
   "source": [
    "x =  \"{ 'name':'John', 'age':30, 'city':'New York'}\"\n",
    "y = json.loads(x)"
   ]
  },
  {
   "cell_type": "markdown",
   "metadata": {},
   "source": [
    "**Above doesn't work, because key strings are required to be double-quoted**"
   ]
  },
  {
   "cell_type": "markdown",
   "metadata": {},
   "source": [
    "---"
   ]
  },
  {
   "cell_type": "markdown",
   "metadata": {},
   "source": [
    "#### <font color=\"brown\">Dumping a dictonary to JSON-formatted string</font>"
   ]
  },
  {
   "cell_type": "code",
   "execution_count": null,
   "metadata": {},
   "outputs": [],
   "source": [
    "dat_dict = { 'name' : 'Jane', 'age' : 25, 'city' : 'Chicago'}\n",
    "dat_str = json.dumps(dat_dict)\n",
    "print(dat_str)"
   ]
  },
  {
   "cell_type": "code",
   "execution_count": null,
   "metadata": {},
   "outputs": [],
   "source": [
    "# a dictionary with integers for keys\n",
    "dict2 = {2: 'busch', 1: 'college ave'}\n",
    "print(dict2)"
   ]
  },
  {
   "cell_type": "code",
   "execution_count": null,
   "metadata": {},
   "outputs": [],
   "source": [
    "# dump to string \n",
    "dict2_str = json.dumps(dict2)\n",
    "print(dict2_str)  "
   ]
  },
  {
   "cell_type": "markdown",
   "metadata": {},
   "source": [
    "**<font color=\"red\">1. When dumping, integer keys converted to strings, single-quoted strings are double-quoted</font>**"
   ]
  },
  {
   "cell_type": "code",
   "execution_count": null,
   "metadata": {},
   "outputs": [],
   "source": [
    "dict2_new = json.loads(dict2_str)\n",
    "print(dict2_new)   "
   ]
  },
  {
   "cell_type": "markdown",
   "metadata": {},
   "source": [
    "**<font color=\"red\">2. So when loading back, dict keys change to strings so dict2 is NOT the same as dict2_new<font>**"
   ]
  },
  {
   "cell_type": "markdown",
   "metadata": {},
   "source": [
    "---"
   ]
  },
  {
   "cell_type": "markdown",
   "metadata": {},
   "source": [
    "#### <font color=\"brown\">Using arrays as values</font>"
   ]
  },
  {
   "cell_type": "code",
   "execution_count": null,
   "metadata": {},
   "outputs": [],
   "source": [
    "# array of integers\n",
    "json3 = '{\"name\": \"Anika\", \"quiz_scores\":[38,40,36,40,32]}'\n",
    "dict3 = json.loads(json3)\n",
    "print(dict3['quiz_scores'][2])"
   ]
  },
  {
   "cell_type": "code",
   "execution_count": null,
   "metadata": {},
   "outputs": [],
   "source": [
    "# array of dictionaries\n",
    "json4 = '{\"quiz_scores\" : [{\"name\": \"Anika\", \"scores\": [38,40,36,40,32]}, {\"name\": \"Amir\", \"scores\":[36,38,40,30,34]}]}'\n",
    "dict4 = json.loads(json4)\n",
    "print(dict4)"
   ]
  },
  {
   "cell_type": "code",
   "execution_count": null,
   "metadata": {},
   "outputs": [],
   "source": [
    "print(dict4['quiz_scores'][1]['name'])  # name of second item in quiz_scores value array\n",
    "print(dict4['quiz_scores'][0]['scores'][3])  # 4th score of first item in quiz_scores value array"
   ]
  },
  {
   "cell_type": "markdown",
   "metadata": {},
   "source": [
    "---"
   ]
  },
  {
   "cell_type": "markdown",
   "metadata": {},
   "source": [
    "#### <font color=\"brown\">Storing JSON to file</font>"
   ]
  },
  {
   "cell_type": "code",
   "execution_count": null,
   "metadata": {},
   "outputs": [],
   "source": [
    "# dump to file\n",
    "with open (\"quiz_scores.json\",\"w\") as qsfile:\n",
    "    json.dump(dict4, qsfile)"
   ]
  },
  {
   "cell_type": "code",
   "execution_count": null,
   "metadata": {},
   "outputs": [],
   "source": [
    "# load from file\n",
    "with open(\"quiz_scores.json\") as qsfile:\n",
    "    qs_scores = json.load(qsfile)"
   ]
  },
  {
   "cell_type": "code",
   "execution_count": null,
   "metadata": {},
   "outputs": [],
   "source": [
    "print(qs_scores)"
   ]
  },
  {
   "cell_type": "markdown",
   "metadata": {},
   "source": [
    "---"
   ]
  },
  {
   "cell_type": "markdown",
   "metadata": {},
   "source": [
    "#### <font color=\"brown\">JSON with just a string (no dictionary)</font>"
   ]
  },
  {
   "cell_type": "code",
   "execution_count": null,
   "metadata": {},
   "outputs": [],
   "source": [
    "# string must be double-quoted\n",
    "jsonstr = json.loads('\"JSON - JavaScript Object Notation\"')\n",
    "jsonstr"
   ]
  },
  {
   "cell_type": "markdown",
   "metadata": {},
   "source": [
    "---"
   ]
  },
  {
   "cell_type": "markdown",
   "metadata": {},
   "source": [
    "#### <font color=\"brown\">JSON with just an array</font>"
   ]
  },
  {
   "cell_type": "code",
   "execution_count": null,
   "metadata": {},
   "outputs": [],
   "source": [
    "jsonarr = json.loads('[1,2,2,4]')\n",
    "print(jsonarr)\n",
    "print(len(jsonarr))"
   ]
  },
  {
   "cell_type": "markdown",
   "metadata": {},
   "source": [
    "---"
   ]
  },
  {
   "cell_type": "markdown",
   "metadata": {},
   "source": [
    "#### <font color=\"brown\">JSON with just a number</font>"
   ]
  },
  {
   "cell_type": "code",
   "execution_count": null,
   "metadata": {},
   "outputs": [],
   "source": [
    "jsonint = json.loads('25')\n",
    "print(type(jsonint))\n",
    "jsonreal = json.loads('25.3')\n",
    "print(type(jsonreal))"
   ]
  },
  {
   "cell_type": "code",
   "execution_count": null,
   "metadata": {},
   "outputs": [],
   "source": [
    "json.loads('12.x')"
   ]
  },
  {
   "cell_type": "code",
   "execution_count": null,
   "metadata": {},
   "outputs": [],
   "source": [
    "json.loads('\"12.x\"')   # this is a string"
   ]
  },
  {
   "cell_type": "markdown",
   "metadata": {},
   "source": [
    "---"
   ]
  },
  {
   "cell_type": "markdown",
   "metadata": {},
   "source": [
    "#### <font color=\"brown\">JSON with just a boolean</font>"
   ]
  },
  {
   "cell_type": "code",
   "execution_count": null,
   "metadata": {},
   "outputs": [],
   "source": [
    "jsonbool = json.loads('true')   # must be lowercase\n",
    "print(jsonbool)\n",
    "print(type(jsonbool))"
   ]
  },
  {
   "cell_type": "markdown",
   "metadata": {},
   "source": [
    "---"
   ]
  },
  {
   "cell_type": "markdown",
   "metadata": {},
   "source": [
    "#### <font color=\"brown\">JSON with a null</font>"
   ]
  },
  {
   "cell_type": "code",
   "execution_count": null,
   "metadata": {},
   "outputs": [],
   "source": [
    "jsonnull = json.loads('null')\n",
    "print(jsonnull)\n",
    "print(type(jsonnull))"
   ]
  },
  {
   "cell_type": "markdown",
   "metadata": {},
   "source": [
    "---"
   ]
  },
  {
   "cell_type": "markdown",
   "metadata": {},
   "source": [
    "#### Exercise: ad hoc format converted storage to JSON\n",
    "\n",
    "Suppose scores were in a file *qs_scores.txt*, like this:\n",
    "    \n",
    "Anika Sorenson|38,40,36,40,32<br>\n",
    "Amir Sharif|36,38,40,30,34\n",
    "\n",
    "We want to store this in JSON form so that it is standardized"
   ]
  },
  {
   "cell_type": "code",
   "execution_count": null,
   "metadata": {},
   "outputs": [],
   "source": [
    "# make an input text file, qs-scores.txt\n",
    "qs_dict = {}\n",
    "for line in open('qs_scores.txt'):\n",
    "    flds = line.split('|')\n",
    "    scores = flds[1].strip().split(',')\n",
    "    qs_scores = [int(qs) for qs in scores]\n",
    "    qs_dict[flds[0].strip()] = qs_scores\n",
    "print(qs_dict)"
   ]
  },
  {
   "cell_type": "code",
   "execution_count": null,
   "metadata": {},
   "outputs": [],
   "source": [
    "with open('qs_scores.json','w') as qsfile:\n",
    "    json.dump(qs_dict, qsfile)\n",
    "\n",
    "# double-click the output file, will open in json interpretation mode\n",
    "# right-click -> open with editor, can see plain text"
   ]
  },
  {
   "cell_type": "markdown",
   "metadata": {},
   "source": [
    "---"
   ]
  },
  {
   "cell_type": "markdown",
   "metadata": {},
   "source": [
    "#### <font color=\"brown\">Getting JSON data from a Web page<font>"
   ]
  },
  {
   "cell_type": "code",
   "execution_count": null,
   "metadata": {},
   "outputs": [],
   "source": [
    "import requests"
   ]
  },
  {
   "cell_type": "markdown",
   "metadata": {},
   "source": [
    "#### Example of reading public JSON dataset\n",
    "\n",
    "Nobel Prizes - http://api.nobelprize.org/v1/prize.json"
   ]
  },
  {
   "cell_type": "code",
   "execution_count": null,
   "metadata": {},
   "outputs": [],
   "source": [
    "nobel_url = ' http://api.nobelprize.org/v1/prize.json'\n",
    "resp = requests.get(nobel_url)\n",
    "nobels = json.loads(resp.text)"
   ]
  },
  {
   "cell_type": "markdown",
   "metadata": {},
   "source": [
    "**nobels is a dictionary with a single key, 'prizes'**"
   ]
  },
  {
   "cell_type": "code",
   "execution_count": null,
   "metadata": {},
   "outputs": [],
   "source": [
    "print(nobels.keys())"
   ]
  },
  {
   "cell_type": "markdown",
   "metadata": {},
   "source": [
    "**the value for 'prizes' is a list**"
   ]
  },
  {
   "cell_type": "code",
   "execution_count": null,
   "metadata": {},
   "outputs": [],
   "source": [
    "len(nobels['prizes'])"
   ]
  },
  {
   "cell_type": "markdown",
   "metadata": {},
   "source": [
    "**list is of length 658, one item per prize**"
   ]
  },
  {
   "cell_type": "code",
   "execution_count": null,
   "metadata": {},
   "outputs": [],
   "source": [
    "print(nobels['prizes'][0])"
   ]
  },
  {
   "cell_type": "markdown",
   "metadata": {},
   "source": [
    "**each list item is a dictionary**"
   ]
  },
  {
   "cell_type": "markdown",
   "metadata": {},
   "source": [
    "**<font color=\"brown\">Get all prizes awarded in the year 2021</font>**"
   ]
  },
  {
   "cell_type": "code",
   "execution_count": null,
   "metadata": {},
   "outputs": [],
   "source": [
    "nobels_2021 = [prize for prize in nobels['prizes'] if prize['year'] == '2021']\n",
    "print(nobels_2021)"
   ]
  },
  {
   "cell_type": "markdown",
   "metadata": {},
   "source": [
    "**This is TMI and quite hard to read, we want to write in a user-friendly format**\n",
    "\n",
    "**We want:**<br>\n",
    "    Chemistry: name1, name2 ...<br>\n",
    "    Economics: name1, name2 ...\n"
   ]
  },
  {
   "cell_type": "code",
   "execution_count": null,
   "metadata": {},
   "outputs": [],
   "source": [
    "for prize in nobels_2021:\n",
    "    print(prize['category'].capitalize() + ': ',end='')\n",
    "    winners = [winner['firstname']+' '+winner['surname'] for winner in prize['laureates']]\n",
    "    print(', '.join(winners))"
   ]
  },
  {
   "cell_type": "markdown",
   "metadata": {},
   "source": [
    "**<font color=\"brown\">Get all prizes awarded in the year 2020</font>**"
   ]
  },
  {
   "cell_type": "code",
   "execution_count": null,
   "metadata": {},
   "outputs": [],
   "source": [
    "nobels_2020 = [prize for prize in nobels['prizes'] if prize['year'] == '2020']\n",
    "for prize in nobels_2020:\n",
    "    print(prize['category'].capitalize() + ': ',end='')\n",
    "    winners = [winner['firstname']+' '+winner['surname'] for winner in prize['laureates']]\n",
    "    print(', '.join(winners))"
   ]
  },
  {
   "cell_type": "markdown",
   "metadata": {},
   "source": [
    "**Surname missing in Peace prize, could be missing in other years as well<br>\n",
    "Use dict get method with default return of empty string if key not found**"
   ]
  },
  {
   "cell_type": "code",
   "execution_count": null,
   "metadata": {},
   "outputs": [],
   "source": [
    "for prize in nobels_2020:\n",
    "    print(prize['category'].capitalize() + ': ',end='')\n",
    "    winners = [winner['firstname']+' '+winner.get('surname','') for winner in prize['laureates']]\n",
    "    print(', '.join(winners))"
   ]
  },
  {
   "cell_type": "markdown",
   "metadata": {},
   "source": [
    "---"
   ]
  },
  {
   "cell_type": "markdown",
   "metadata": {},
   "source": [
    "#### <font color=\"brown\">Basic JSON structure: https://www.json.org/json-en.html</font>\n",
    "As the description says at the top, JSON is built on two structures (using Python corresponding terminology: dictionary (key-value pairs), and lists (arrays)"
   ]
  },
  {
   "cell_type": "code",
   "execution_count": null,
   "metadata": {},
   "outputs": [],
   "source": []
  }
 ],
 "metadata": {
  "kernelspec": {
   "display_name": "Python 3 (ipykernel)",
   "language": "python",
   "name": "python3"
  },
  "language_info": {
   "codemirror_mode": {
    "name": "ipython",
    "version": 3
   },
   "file_extension": ".py",
   "mimetype": "text/x-python",
   "name": "python",
   "nbconvert_exporter": "python",
   "pygments_lexer": "ipython3",
   "version": "3.10.6"
  }
 },
 "nbformat": 4,
 "nbformat_minor": 4
}
