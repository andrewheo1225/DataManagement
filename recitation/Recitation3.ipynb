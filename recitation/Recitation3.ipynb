{
  "nbformat": 4,
  "nbformat_minor": 0,
  "metadata": {
    "colab": {
      "provenance": []
    },
    "kernelspec": {
      "name": "python3",
      "display_name": "Python 3"
    },
    "language_info": {
      "name": "python"
    }
  },
  "cells": [
    {
      "cell_type": "markdown",
      "source": [
        "### Welcome to CS 210 Recitation 3\n",
        "\n",
        "This week we will review how to work more robustly with python lists including sorting, comprehension, and lambda functions. We will use unit testing concepts to solve problems and test our solutions."
      ],
      "metadata": {
        "id": "obLGRe6UGVZD"
      }
    },
    {
      "cell_type": "code",
      "execution_count": null,
      "metadata": {
        "id": "50lux9YHBTn5"
      },
      "outputs": [],
      "source": [
        "import unittest\n",
        "\n",
        "def run_test(my_class):\n",
        "    suite = unittest.TestLoader().loadTestsFromTestCase(my_class)\n",
        "    unittest.TextTestRunner(verbosity=2).run(suite)\n",
        "    return my_class"
      ]
    },
    {
      "cell_type": "code",
      "source": [
        "listofstrings = ['cs', 'ee', 'math']\n",
        "listofreals = [1.2, 3, 6.8, -12]\n",
        "lst = [0, 1, 2, 3, 4, 5, 6, 7, 8, 9]\n",
        "\n",
        "@run_test\n",
        "class TestIndex(unittest.TestCase):\n",
        "    \n",
        "  def test_str_index(self):\n",
        "      expected_value = listofstrings[0] # use the correct index to assign value\n",
        "      self.assertEqual(expected_value, 'cs')\n",
        "\n",
        "  def test_real_sum(self):\n",
        "    expected_value = listofreals[0] + listofreals[2] # add the correct list indices to get the answer below\n",
        "    self.assertEqual(expected_value, 8)\n",
        "\n",
        "  def test_in_list(self):\n",
        "    expected_value = -12 in listofreals #Check if the value -12 is in the list of reals\n",
        "    self.assertTrue(expected_value)\n",
        "\n",
        "  def test_neg(self):\n",
        "    expected_value = lst[-2] # find the second to last value in lst\n",
        "    self.assertEqual(expected_value, 8)\n",
        "\n",
        "  def test_slice(self):\n",
        "    expected_value = lst[2:7] # find the subarray below\n",
        "    self.assertEqual(expected_value, [2, 3, 4, 5, 6])\n",
        "\n",
        "  def test_stride(self):\n",
        "    expected_value = lst[2::3] # print every third value in lst starting from index 2\n",
        "    self.assertEqual(expected_value, [2, 5, 8])\n",
        "\n",
        "  def test_neg_stride(self):\n",
        "    expected_value = lst[::-1] # use stride to reverse lst and then use the method\n",
        "    self.assertEqual(expected_value, [9, 8, 7, 6, 5, 4, 3, 2, 1, 0])"
      ],
      "metadata": {
        "id": "ScE4p8QlGn_K",
        "colab": {
          "base_uri": "https://localhost:8080/"
        },
        "outputId": "2aaf2122-1756-4343-f75b-5bd41acdbc75"
      },
      "execution_count": null,
      "outputs": [
        {
          "output_type": "stream",
          "name": "stderr",
          "text": [
            "test_in_list (__main__.TestIndex) ... ok\n",
            "test_neg (__main__.TestIndex) ... ok\n",
            "test_neg_stride (__main__.TestIndex) ... ok\n",
            "test_real_sum (__main__.TestIndex) ... ok\n",
            "test_slice (__main__.TestIndex) ... ok\n",
            "test_str_index (__main__.TestIndex) ... ok\n",
            "test_stride (__main__.TestIndex) ... ok\n",
            "\n",
            "----------------------------------------------------------------------\n",
            "Ran 7 tests in 0.018s\n",
            "\n",
            "OK\n"
          ]
        }
      ]
    },
    {
      "cell_type": "code",
      "source": [
        "xx = [1,2,3]\n",
        "yy = [4,5,6,7]"
      ],
      "metadata": {
        "colab": {
          "base_uri": "https://localhost:8080/"
        },
        "id": "ydOHzfVurWPI",
        "outputId": "59038f84-ad22-4856-fe1f-d98eccbfe986"
      },
      "execution_count": null,
      "outputs": [
        {
          "output_type": "stream",
          "name": "stdout",
          "text": [
            "None\n"
          ]
        }
      ]
    },
    {
      "cell_type": "code",
      "source": [
        "xx = [1,2,3]\n",
        "yy = [4,5,6,7]\n",
        "mylst = [5,4,-3,6,1,-7,3,8]\n",
        "clst = ['a','b','a','c','d', 'c', 'a','b','f', 'c']\n",
        "\n",
        "@run_test\n",
        "class TestMethods(unittest.TestCase):\n",
        "\n",
        "  def test_concatenate(self):\n",
        "    expected_value = xx + yy # combine the two lists above (any three solutions acceptable)\n",
        "    self.assertEqual(expected_value, [1, 2, 3, 4, 5, 6, 7])\n",
        "\n",
        "  def test_unpack(self):\n",
        "    # use the unpack operator to get the first and last items in mylst\n",
        "    first, *middle, last = mylst\n",
        "    self.assertEqual(first, 5)\n",
        "    self.assertEqual(last, 8)\n",
        "\n",
        "  def test_num(self):\n",
        "    expected_value = clst.count('c') # find the number of c characters there are in clst\n",
        "    self.assertEqual(expected_value, 3)\n",
        "\n",
        "  def test_find_index(self):\n",
        "    expected_value = clst.index('d') # find the index of the first d value in clst\n",
        "    # Q: (what is the difference between index and find?)\n",
        "    self.assertEqual(expected_value, 4)\n",
        "  \n",
        "  def test_remove(self):\n",
        "    clst.remove('c')\n",
        "    # remove the first occurance of c in clst\n",
        "    self.assertEqual(clst, ['a','b','a','d', 'c', 'a','b','f', 'c'])\n",
        "\n",
        "  def test_insert(self):\n",
        "    clst.remove('c')\n",
        "    clst.insert(3, 'c')\n",
        "    # add the letter back into the same place\n",
        "    self.assertEqual(clst, ['a','b','a','c','d', 'c', 'a','b','f', 'c'])\n",
        "\n",
        "  def test_sort(self):\n",
        "    expected_value = sorted(clst) # sort the clst and store it in expected value\n",
        "    clst.sort()\n",
        "    print(clst)\n",
        "    self.assertEqual(expected_value, clst)\n",
        "  "
      ],
      "metadata": {
        "id": "V-YNxPVUJMgx",
        "colab": {
          "base_uri": "https://localhost:8080/"
        },
        "outputId": "57788e5c-7266-48d9-c16a-dbfae2ebde3d"
      },
      "execution_count": null,
      "outputs": [
        {
          "output_type": "stream",
          "name": "stderr",
          "text": [
            "test_concatenate (__main__.TestMethods) ... ok\n",
            "test_find_index (__main__.TestMethods) ... ok\n",
            "test_insert (__main__.TestMethods) ... ok\n",
            "test_num (__main__.TestMethods) ... ok\n",
            "test_remove (__main__.TestMethods) ... ok\n",
            "test_sort (__main__.TestMethods) ... ok\n",
            "test_unpack (__main__.TestMethods) ... "
          ]
        },
        {
          "output_type": "stream",
          "name": "stdout",
          "text": [
            "['a', 'a', 'a', 'b', 'b', 'c', 'c', 'd', 'f']\n"
          ]
        },
        {
          "output_type": "stream",
          "name": "stderr",
          "text": [
            "ok\n",
            "\n",
            "----------------------------------------------------------------------\n",
            "Ran 7 tests in 0.022s\n",
            "\n",
            "OK\n"
          ]
        }
      ]
    },
    {
      "cell_type": "code",
      "source": [
        "courses = ['math250','cs210','cs344','phy313']\n",
        "lst2 = [3,-2,4,1,-5,9,3,-1]\n",
        "\n",
        "@run_test\n",
        "class TestOther(unittest.TestCase):\n",
        "\n",
        "  def test_lambda(self):\n",
        "      expected_value = list(map(lambda x: x**2, lst2)) # use a lambda func to square all the values in lst2\n",
        "      self.assertEqual(expected_value, [9,4,16,1,25,81,9,1])\n",
        "  \n",
        "  def test_comp(self):\n",
        "    expected_value = [int(course[-3:]) for course in courses] # use list comprehension to extract the course numbers from courses\n",
        "    self.assertEqual(expected_value, [250, 210, 344, 313])"
      ],
      "metadata": {
        "id": "l-0sR2rLOgm0",
        "colab": {
          "base_uri": "https://localhost:8080/"
        },
        "outputId": "57f2f878-5400-4e49-df0b-a40951e1d227"
      },
      "execution_count": null,
      "outputs": [
        {
          "output_type": "stream",
          "name": "stderr",
          "text": [
            "test_comp (__main__.TestOther) ... ok\n",
            "test_lambda (__main__.TestOther) ... ok\n",
            "\n",
            "----------------------------------------------------------------------\n",
            "Ran 2 tests in 0.009s\n",
            "\n",
            "OK\n"
          ]
        }
      ]
    },
    {
      "cell_type": "markdown",
      "source": [
        "### Guided Problems\n",
        "\n",
        "Now we will move to 'open-ended' python questions. You may solve these functions any way you like, just make sure you pass the tests! [source](https://www.practicepython.org/exercise/2014/05/28/16-password-generator.html)"
      ],
      "metadata": {
        "id": "BxbhrvkfRHBh"
      }
    },
    {
      "cell_type": "code",
      "source": [
        "def get_ages(years):\n",
        "  \"\"\"\n",
        "  Translate the years of birth into ages and return the ages as a list\n",
        "  \"\"\"\n",
        "  result = [2022-year for year in years]\n",
        "  #for year in years:\n",
        "  #  result.append(2022-year)\n",
        "  return result\n",
        "  pass # complete this function to pass the tests below\n",
        "\n",
        "def dedup(values):\n",
        "  \"\"\"\n",
        "  Write a program (function!) that takes a list and returns a new list that \n",
        "  contains all the elements of the first list minus all the duplicates.\n",
        "  \"\"\"\n",
        "  pass # complete this function to pass the tests below\n",
        "\n",
        "@run_test\n",
        "class TestFunctions(unittest.TestCase):\n",
        "  def test_funcs(self):\n",
        "    self.assertEqual(get_ages([1772, 1812, 1678, 1709]), [250, 210, 344, 313])\n",
        "    self.assertEqual(dedup([\"Michele\", \"Robin\", \"Sara\", \"Michele\"]), [\"Robin\", \"Sara\", \"Michele\"])"
      ],
      "metadata": {
        "id": "c4SPL6WkRINh",
        "colab": {
          "base_uri": "https://localhost:8080/"
        },
        "outputId": "10e9cb8d-bdba-411b-895a-7a58b2292697"
      },
      "execution_count": null,
      "outputs": [
        {
          "output_type": "stream",
          "name": "stderr",
          "text": [
            "test_funcs (__main__.TestFunctions) ... FAIL\n",
            "\n",
            "======================================================================\n",
            "FAIL: test_funcs (__main__.TestFunctions)\n",
            "----------------------------------------------------------------------\n",
            "Traceback (most recent call last):\n",
            "  File \"<ipython-input-7-da29a0d32827>\", line 22, in test_funcs\n",
            "    self.assertEqual(dedup([\"Michele\", \"Robin\", \"Sara\", \"Michele\"]), [\"Robin\", \"Sara\", \"Michele\"])\n",
            "AssertionError: None != ['Robin', 'Sara', 'Michele']\n",
            "\n",
            "----------------------------------------------------------------------\n",
            "Ran 1 test in 0.006s\n",
            "\n",
            "FAILED (failures=1)\n"
          ]
        }
      ]
    },
    {
      "cell_type": "code",
      "source": [
        "def get_ages(years):\n",
        "  \"\"\"\n",
        "  Translate the years of birth into ages and return the ages as a list\n",
        "  \"\"\"\n",
        "  return [2022 - year for year in years]\n",
        "  pass # complete this function to pass the tests below\n",
        "\n",
        "def dedup(values):\n",
        "  \"\"\"\n",
        "  Write a program (function!) that takes a list and returns a new list that \n",
        "  contains all the elements of the first list minus all the duplicates.\n",
        "  \"\"\"\n",
        "  res = []\n",
        "  for value in values:\n",
        "    if value not in res:\n",
        "      res.append(value)\n",
        "  return res\n",
        "  pass # complete this function to pass the tests below\n",
        "\n",
        "@run_test\n",
        "class TestFunctions(unittest.TestCase):\n",
        "  def test_funcs(self):\n",
        "    self.assertEqual(get_ages([1772, 1812, 1678, 1709]), [250, 210, 344, 313])\n",
        "    self.assertEqual(dedup([\"Michele\", \"Robin\", \"Sara\", \"Michele\"]), [\"Michele\", \"Robin\", \"Sara\"])"
      ],
      "metadata": {
        "colab": {
          "base_uri": "https://localhost:8080/"
        },
        "id": "Baj68oNU5C23",
        "outputId": "44aacb8a-99e1-48e9-9bfc-80e2c48cd036"
      },
      "execution_count": null,
      "outputs": [
        {
          "output_type": "stream",
          "name": "stderr",
          "text": [
            "test_funcs (__main__.TestFunctions) ... ok\n",
            "\n",
            "----------------------------------------------------------------------\n",
            "Ran 1 test in 0.006s\n",
            "\n",
            "OK\n"
          ]
        }
      ]
    }
  ]
}