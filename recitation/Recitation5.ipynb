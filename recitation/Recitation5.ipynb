{
  "nbformat": 4,
  "nbformat_minor": 0,
  "metadata": {
    "colab": {
      "provenance": [],
      "collapsed_sections": []
    },
    "kernelspec": {
      "name": "python3",
      "display_name": "Python 3"
    },
    "language_info": {
      "name": "python"
    }
  },
  "cells": [
    {
      "cell_type": "markdown",
      "source": [
        "## Welcome to CS 210 Recitation 5\n",
        "\n",
        "This week we will go over any questions on the homework assignment and then review Tuesday's lecture on Regular Expressions. "
      ],
      "metadata": {
        "id": "7gcvoxxfA_IB"
      }
    },
    {
      "cell_type": "code",
      "source": [
        "import re"
      ],
      "metadata": {
        "id": "AgA85VwzDD2l"
      },
      "execution_count": 1,
      "outputs": []
    },
    {
      "cell_type": "markdown",
      "source": [
        "### Task 1\n",
        "\n",
        "You and your roomate are ready to launch your dorm room startup \"itscrap.com\" a blog to sell your metal scraps online! However, before you can launch one last bit of code (the login screen) must be finished. We want to make sure that scrap sellers provide a valid email and password to create their account."
      ],
      "metadata": {
        "id": "UaG1UdgLEp7G"
      }
    },
    {
      "cell_type": "code",
      "source": [
        "# Write a Python program to check that the user inputs a valid email\n",
        "def checkEmail(email):\n",
        "  return re.search('^[a-zA-Z0-9]+@[a-z]+.com', email) is not None\n",
        "\n",
        "checkEmail('cs210p@rutgers.com')"
      ],
      "metadata": {
        "id": "8MBhZAwTCwX7",
        "colab": {
          "base_uri": "https://localhost:8080/"
        },
        "outputId": "0fc98c4a-8669-4c12-bd3b-e3a429fbc5b8"
      },
      "execution_count": 10,
      "outputs": [
        {
          "output_type": "execute_result",
          "data": {
            "text/plain": [
              "True"
            ]
          },
          "metadata": {},
          "execution_count": 10
        }
      ]
    },
    {
      "cell_type": "code",
      "source": [
        "# Write a python program to check that the user inputs a valid password\n",
        "# password must have at least one special character, one upper case letter and \n",
        "# one integer\n",
        "def checkPassword(password):\n",
        "  print(re.search('[0-9]+', password))\n",
        "  int_check = re.search('[0-9]+', password) is not None\n",
        "  special_check = re.search('(@|#|%|-|_)+', password) is not None\n",
        "  upper_check = re.search('[A-Z]+', password) is not None\n",
        "\n",
        "  # print(int_check)\n",
        "  # print(special_check)\n",
        "  # print(upper_check)\n",
        "\n",
        "  return int_check and special_check and upper_check\n",
        "\n",
        "print(checkPassword('advitCS-'))"
      ],
      "metadata": {
        "id": "tbiVNSjbDGkg",
        "colab": {
          "base_uri": "https://localhost:8080/"
        },
        "outputId": "3784a26d-722e-4a50-c4df-1d5b9f72e518"
      },
      "execution_count": 17,
      "outputs": [
        {
          "output_type": "stream",
          "name": "stdout",
          "text": [
            "None\n",
            "False\n"
          ]
        }
      ]
    },
    {
      "cell_type": "markdown",
      "source": [
        "### Task 2\n",
        "\n",
        "All of the dates on your company's systems need to be reset to avoid the world ending! Convert all the dates from the yyyy-mm-dd format to mm/dd/yyyy format. (This question involves knowledge outside of this course so only do this as a challenge)"
      ],
      "metadata": {
        "id": "r9FndjoTLz_G"
      }
    },
    {
      "cell_type": "code",
      "source": [
        "def convertDate(date):\n",
        "  if re.search('[0-9]{4}-[0-9]{2}-[0-9]{2}', date) is not None:\n",
        "    parts = date.split('-')\n",
        "    return parts[1] + '/' + parts[2] + '/' + parts[0]\n",
        "\n",
        "print(convertDate('2022-10-12'))"
      ],
      "metadata": {
        "id": "ca22i971MMaq",
        "colab": {
          "base_uri": "https://localhost:8080/"
        },
        "outputId": "ab62fd97-87f9-4770-8842-5b81b5841a49"
      },
      "execution_count": 21,
      "outputs": [
        {
          "output_type": "stream",
          "name": "stdout",
          "text": [
            "10/12/2022\n"
          ]
        }
      ]
    },
    {
      "cell_type": "markdown",
      "source": [
        "### Task 3\n",
        "\n",
        "Bee Movie is a 2007 American computer-animated comedy film produced by DreamWorks Animation and starring Jerry Seinfeld. The film centers on Barry B. Benson (Seinfeld), a honey bee who tries to sue the human race for exploiting bees after learning from his florist friend Vanessa Bloome (Zellweger) that humans sell and consume honey. Source\n",
        "Your bee studies class (BEE 210) has tasked you with homework telling you to break down the script of the movie. They have asked you to provide the following things:\n",
        "\n",
        "- A text file giving every word that appears in the film, along with the frequency of each word (return a dictionary as well)\n",
        "- Output all the words (and frequencies) that start with the letter 'a' and end with the letters 'ss', then output those starting with 'b' and ending in 'e'"
      ],
      "metadata": {
        "id": "cDjtTV57uCN0"
      }
    },
    {
      "cell_type": "code",
      "source": [
        "# code to download the bee movie text\n",
        "!wget https://courses.cs.washington.edu/courses/cse163/21su/files/lectures/L04/bee-movie.txt"
      ],
      "metadata": {
        "id": "KAo6WHR1-fKj",
        "colab": {
          "base_uri": "https://localhost:8080/"
        },
        "outputId": "05f83e99-2858-4b1c-ffc8-b33abdfd90ce"
      },
      "execution_count": 22,
      "outputs": [
        {
          "output_type": "stream",
          "name": "stdout",
          "text": [
            "--2022-10-12 13:10:08--  https://courses.cs.washington.edu/courses/cse163/21su/files/lectures/L04/bee-movie.txt\n",
            "Resolving courses.cs.washington.edu (courses.cs.washington.edu)... 128.208.1.193, 2607:4000:200:10::c1\n",
            "Connecting to courses.cs.washington.edu (courses.cs.washington.edu)|128.208.1.193|:443... connected.\n",
            "HTTP request sent, awaiting response... 200 OK\n",
            "Length: 86091 (84K) [text/plain]\n",
            "Saving to: ‘bee-movie.txt’\n",
            "\n",
            "bee-movie.txt       100%[===================>]  84.07K   336KB/s    in 0.3s    \n",
            "\n",
            "2022-10-12 13:10:09 (336 KB/s) - ‘bee-movie.txt’ saved [86091/86091]\n",
            "\n"
          ]
        }
      ]
    },
    {
      "cell_type": "code",
      "source": [
        "# complete the above excercises in this code block\n",
        "dict = {}\n",
        "for line in open('bee-movie.txt'):\n",
        "  #print(line)\n",
        "  line = line.strip('\\n')\n",
        "  for word in line.split(' '):\n",
        "    if word in dict:\n",
        "      dict[word.lower()] += 1\n",
        "    else:\n",
        "      dict[word.lower()] = 1\n",
        "\n",
        "for key in dict:\n",
        "  if re.search('^b+.*e$', key) is not None:\n",
        "    print(key)\n",
        "    print(dict[key])\n"
      ],
      "metadata": {
        "id": "LDsICGGi-f18",
        "colab": {
          "base_uri": "https://localhost:8080/"
        },
        "outputId": "674aa264-b3e2-45b8-a148-9888a45d4baf"
      },
      "execution_count": 26,
      "outputs": [
        {
          "output_type": "stream",
          "name": "stdout",
          "text": [
            "bee\n",
            "3\n",
            "be\n",
            "5\n",
            "because\n",
            "3\n",
            "believe\n",
            "10\n",
            "bridge\n",
            "1\n",
            "bottle\n",
            "1\n",
            "before\n",
            "3\n",
            "blue\n",
            "1\n",
            "bloome\n",
            "1\n",
            "brochure\n",
            "2\n",
            "bumble\n",
            "1\n",
            "balance\n",
            "1\n",
            "bee-negative\n",
            "1\n"
          ]
        }
      ]
    },
    {
      "cell_type": "markdown",
      "source": [
        "### Task 4\n",
        "\n",
        "The FBI is investigating some suspicious activity in the tri state area potentially involving the Italian mafia. They need your help to analyze the sentiments portrayed in the classic 1970s mob thriller \"The Godfather.\" For this text, read the whole script into a string variable and make sure to get rid of any new lines at the end. Answer the following questions:\n",
        "\n",
        "- FBI wants to find all discussions between mob members in the script, find all the lines that are in between a pair of quote characters (use non greedy matching)\n",
        "- The FBI wants to search for any dollar amounts mentioned in the script, find a dollar value which can be seen in the script\n",
        "- The FBI wants to find all mentions of gun violence in the script, find all the occurrances of the word \"gun\" (it can be part of a word)"
      ],
      "metadata": {
        "id": "tASOuU0ZcNoS"
      }
    },
    {
      "cell_type": "code",
      "source": [
        "# code to download the godfather script\n",
        "!wget https://www.awesomefilm.com/script/THEGODFATHER.txt"
      ],
      "metadata": {
        "id": "N5Les_b0dvkV",
        "colab": {
          "base_uri": "https://localhost:8080/"
        },
        "outputId": "3e69bb09-2c9f-48bb-c870-d86dd03a0dc7"
      },
      "execution_count": 27,
      "outputs": [
        {
          "output_type": "stream",
          "name": "stdout",
          "text": [
            "--2022-10-12 13:18:57--  https://www.awesomefilm.com/script/THEGODFATHER.txt\n",
            "Resolving www.awesomefilm.com (www.awesomefilm.com)... 65.254.227.224\n",
            "Connecting to www.awesomefilm.com (www.awesomefilm.com)|65.254.227.224|:443... connected.\n",
            "HTTP request sent, awaiting response... 200 OK\n",
            "Length: 197393 (193K) [text/plain]\n",
            "Saving to: ‘THEGODFATHER.txt’\n",
            "\n",
            "THEGODFATHER.txt    100%[===================>] 192.77K   345KB/s    in 0.6s    \n",
            "\n",
            "2022-10-12 13:18:59 (345 KB/s) - ‘THEGODFATHER.txt’ saved [197393/197393]\n",
            "\n"
          ]
        }
      ]
    },
    {
      "cell_type": "code",
      "source": [
        "# complete the above excercises in this code block\n",
        "godfather = ''\n",
        "for line in open('THEGODFATHER.txt'):\n",
        "  godfather += ' ' + line.strip('\\n')\n",
        "\n",
        "print(re.findall('\".*?\"', godfather))\n",
        "print(re.search('\\$[0-9]+', godfather))\n",
        "print(re.findall('[a-zA-Z]*gun[a-zA-Z]*', godfather))"
      ],
      "metadata": {
        "id": "DYl3aYxjkAPl",
        "colab": {
          "base_uri": "https://localhost:8080/"
        },
        "outputId": "a4b90389-8d51-40d3-c126-a3123c50bc62"
      },
      "execution_count": 29,
      "outputs": [
        {
          "output_type": "stream",
          "name": "stdout",
          "text": [
            "['\"I believe in America.\"', '\"KHARTOUM.\"', '\"GENCO OLIVE OIL IMPORTS, INC.\"', '\"THANK YOU\"', '\"The Bells of Saint Mary\\'s,\"', '\"VITO CORLEONE SHOT, CHIEFTAN GUNNED DOWN.\"', '\"HOSPITAL--EMERGENCY.\"', '\"INFORMATION\"', '\"OFFICE\"', '\"Room 4A.\"', '\"4A-- Corleone\"', '\"CAMELS\"', '\"LUNA AZURA\"', '\"I have no tricks up my sleeve\"', '\"Five Family War...\"', '\"Book\"', '\"I have powders, if \\t\\t\\tyou put up three, four thousand \\t\\t\\tdollar investment, we can make \\t\\t\\tfifty thousand distributing.\"', '\"VOTA COMMUNISTA\"', '\"Oh say, can you \\t\\t\\tseeee...By da star early light...\"', '\"MARTIN AND LEWIS\"', '\"PATTI PAGE\"', '\"Kill me, kill \\t\\t\\tme.\"', '\"A Benefactor to Mankind\"', '\"He Knew and Pitied\"', '\"Our Don Our Leader\"', '\"The Sacred Heart\"', '\"ROOMS FACING THE SEA--VACANY\"', '\"No Parking\"']\n",
            "<re.Match object; span=(134732, 134736), match='$200'>\n",
            "['gun', 'guns', 'gunshots', 'gun', 'gun', 'gun', 'gun', 'gun', 'gun', 'gun', 'gun', 'gunned', 'gun', 'gun', 'gun', 'gun', 'gun', 'gun', 'gun', 'gun', 'gun', 'gun', 'gun', 'gun', 'gun', 'gun', 'gun', 'guns', 'gun', 'gun', 'gun', 'shotgun', 'guns', 'guns', 'shotgun', 'guns', 'gunfire', 'shotgun', 'gun']\n"
          ]
        }
      ]
    },
    {
      "cell_type": "code",
      "source": [],
      "metadata": {
        "id": "wvWphT7W4eQH"
      },
      "execution_count": null,
      "outputs": []
    }
  ]
}